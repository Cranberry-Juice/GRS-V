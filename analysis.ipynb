{
 "cells": [
  {
   "cell_type": "code",
   "execution_count": 1,
   "id": "450377d3",
   "metadata": {},
   "outputs": [
    {
     "name": "stderr",
     "output_type": "stream",
     "text": [
      "\n",
      "WARNING: version mismatch between CFITSIO header (v40100) and linked library (v40200).\n",
      "\n",
      "\n",
      "WARNING: version mismatch between CFITSIO header (v40100) and linked library (v40200).\n",
      "\n",
      "\n",
      "WARNING: version mismatch between CFITSIO header (v40100) and linked library (v40200).\n",
      "\n"
     ]
    }
   ],
   "source": [
    "%matplotlib inline\n",
    "# %matplotlib widget\n",
    "import math\n",
    "import numpy as np\n",
    "import pandas as pd\n",
    "import matplotlib.pyplot as plt\n",
    "import ligo.skymap.plot # Used for geo aitoff projection\n",
    "import csv\n",
    "import pickle\n",
    "import intervals as I # Used to do interval union math\n",
    "from astropy import units as u\n",
    "from astropy.coordinates import SkyCoord\n",
    "from astropy.cosmology import WMAP9 as cosmo # Used to calculate comoving dist\n",
    "from astropy.table import Table, QTable\n",
    "from astropy.io import fits # To handle FERMI data\n",
    "from astropy import wcs\n",
    "from astropy.wcs import WCS\n",
    "from pytictoc import TicToc # Used to time Code\n",
    "from multiprocessing import Pool # Used for multicore processing\n",
    "from collections import Counter # Used to verify fermi data cleansing\n",
    "from itertools import chain, combinations\n",
    "from collections import defaultdict # Used to merge dictionaries\n",
    "from matplotlib.colors import Normalize # To normalize z for plot coloring\n",
    "from custom_functions import *\n",
    "# import custom_functions as cf\n",
    "\n",
    "# '''No longer necessary when using VSCode'''\n",
    "# CLOCK = TicToc() # Create instance to time code blocks\n",
    "PI = math.pi"
   ]
  },
  {
   "cell_type": "code",
   "execution_count": 2,
   "id": "932df9ed",
   "metadata": {},
   "outputs": [
    {
     "data": {
      "text/plain": [
       "[0,0.3] | [0.75,1]"
      ]
     },
     "execution_count": 2,
     "metadata": {},
     "output_type": "execute_result"
    }
   ],
   "source": [
    "wee = I.closed(0, 0.25)\n",
    "\n",
    "woo = I.closed(0.75, 1)\n",
    "\n",
    "waa = I.closed(0.1, 0.3)\n",
    "\n",
    "lol = [wee, woo, waa]\n",
    "\n",
    "union = I.closed(0, 0)\n",
    "\n",
    "for rango in lol:\n",
    "    union = union | rango\n",
    "\n",
    "union"
   ]
  },
  {
   "cell_type": "code",
   "execution_count": 3,
   "id": "fc236574",
   "metadata": {},
   "outputs": [],
   "source": [
    "def take_union(intervals):\n",
    "    \"\"\"Returns the union of all the list inteverals.\"\"\"\n",
    "    union = I.open(0, 0)\n",
    "    for thing in intervals:\n",
    "        if thing.is_atomic():\n",
    "            raise TypeError(\"interval is atomic\")\n",
    "        else: # This protects against empty intervals\n",
    "            union = union | thing\n",
    "            # print(thing)\n",
    "    return union\n"
   ]
  },
  {
   "cell_type": "code",
   "execution_count": 4,
   "id": "eb872cad",
   "metadata": {},
   "outputs": [],
   "source": [
    "# vhes[204]['intervals'][1]"
   ]
  },
  {
   "cell_type": "code",
   "execution_count": 5,
   "id": "1087b261",
   "metadata": {},
   "outputs": [],
   "source": [
    "# pls = vhes[204]['intervals'][1]\n",
    "# pls.is_empty()"
   ]
  },
  {
   "cell_type": "code",
   "execution_count": 6,
   "id": "dfbf1c6a",
   "metadata": {},
   "outputs": [
    {
     "data": {
      "text/plain": [
       "[0,0.3] | [0.75,1]"
      ]
     },
     "execution_count": 6,
     "metadata": {},
     "output_type": "execute_result"
    }
   ],
   "source": [
    "union"
   ]
  },
  {
   "cell_type": "code",
   "execution_count": 7,
   "id": "27c451a9",
   "metadata": {},
   "outputs": [
    {
     "data": {
      "text/plain": [
       "True"
      ]
     },
     "execution_count": 7,
     "metadata": {},
     "output_type": "execute_result"
    }
   ],
   "source": [
    "plsss = I.closed(2,1)\n",
    "plsss.is_atomic()"
   ]
  },
  {
   "cell_type": "code",
   "execution_count": 8,
   "id": "d0eb22b8",
   "metadata": {},
   "outputs": [],
   "source": [
    "def calc_voidiness(union):\n",
    "    voidiness = 0\n",
    "    for voidichord in union:\n",
    "        if ~voidichord.is_empty(): # This protects against empty intervals\n",
    "            try:\n",
    "                voidiness += voidichord.upper - voidichord.lower\n",
    "            except:\n",
    "                continue # get sidestepped bitch\n",
    "            # Ok but actually, some intervals are atomic and have a neg inf and\n",
    "            # pos inf upper bound. This is a deeper problem. \n",
    "            # Some ints, their lower bound is higher than the upper. This needs to\n",
    "            # be investigated\n",
    "            # TODO: investigate emtpy intervals.\n",
    "    return voidiness"
   ]
  },
  {
   "cell_type": "code",
   "execution_count": 9,
   "id": "01960f52",
   "metadata": {},
   "outputs": [],
   "source": [
    "# Read void table data from text file\n",
    "voids = pd.read_table(\"void_data.txt\", sep=\",\")  # Void data already parsed\n",
    "voids.drop(columns=voids.columns[0], axis=1, inplace=True) # Removes redundant row counter column"
   ]
  },
  {
   "cell_type": "markdown",
   "id": "bd1747c7",
   "metadata": {},
   "source": [
    "# Void Data Processing"
   ]
  },
  {
   "cell_type": "markdown",
   "id": "9a0d7737",
   "metadata": {},
   "source": [
    "## Z distribution"
   ]
  },
  {
   "cell_type": "code",
   "execution_count": 10,
   "id": "60b9a545",
   "metadata": {},
   "outputs": [
    {
     "name": "stdout",
     "output_type": "stream",
     "text": [
      "Max z: 0.6906\n",
      "Min z: 0.00394\n",
      "Range: 0.6866599999999999 \n"
     ]
    },
    {
     "data": {
      "image/png": "[encoded data removed]",
      "text/plain": [
       "<Figure size 640x480 with 1 Axes>"
      ]
     },
     "metadata": {},
     "output_type": "display_data"
    }
   ],
   "source": [
    "# Plot void z histogram\n",
    "plt.hist(voids['z'], bins=100, histtype=\"step\") # 100 bins chosen arbitrarily\n",
    "plt.xlabel('z')\n",
    "plt.ylabel('Count')\n",
    "plt.title('Void Redshift (z) Distribution')\n",
    "plt.grid()\n",
    "plt.tight_layout()\n",
    "\n",
    "# z range\n",
    "max_z = voids['z'].max()\n",
    "min_z = voids['z'].min()\n",
    "print(f\"Max z: {max_z}\\nMin z: {min_z}\\nRange: {max_z - min_z} \")"
   ]
  },
  {
   "cell_type": "code",
   "execution_count": 11,
   "id": "d33b38e8",
   "metadata": {},
   "outputs": [],
   "source": [
    "# Calculating comoving distance from z\n",
    "# NOTE: WMAP9 uses H0 = 69.3 (km/s)/Mpc compared to 69.7 used to calculate h. This should be okay. 7/5/23\n",
    "void_cmvd = cosmo.comoving_distance(voids['z']) # Comoving distance to void center\n",
    "voids['cmvd_Mpc'] = void_cmvd.value # add it to data table\n",
    "\n",
    "# Calculating effective radii in angular seperation units\n",
    "H = 69.7 * ((u.km/u.s)/u.Mpc) # H0 hubble constant used for this study\n",
    "h = H/(100 * ((u.km/u.s)/u.Mpc))\n",
    "\n",
    "void_r = (voids['Reff']) / h.value # [Mpc]\n",
    "voids['Reff_Mpc'] = void_r\n",
    "\n",
    "#radius of voids in angular seperation\n",
    "void_r_angs = np.arctan2(void_r,void_cmvd.value) * (180/math.pi) # Deg\n",
    "voids['r_ang_deg'] = void_r_angs\n"
   ]
  },
  {
   "cell_type": "markdown",
   "id": "4b633381",
   "metadata": {},
   "source": [
    "## Checking for uniqueness in Void data"
   ]
  },
  {
   "cell_type": "code",
   "execution_count": 12,
   "id": "8ef588f8",
   "metadata": {},
   "outputs": [],
   "source": [
    "# Check for unique IDs\n",
    "id_count = Counter(voids['ID']) # Uh oh we have a few duplicate ID's\n",
    "keys = list(id_count)\n",
    "duplicate_ids = [keys for keys, count in id_count.items() if count>1]"
   ]
  },
  {
   "cell_type": "code",
   "execution_count": 13,
   "id": "da499b57",
   "metadata": {},
   "outputs": [],
   "source": [
    "id_count;"
   ]
  },
  {
   "cell_type": "code",
   "execution_count": 14,
   "id": "0566d8d8",
   "metadata": {},
   "outputs": [],
   "source": [
    "duplicates = voids[voids.duplicated()]\n",
    "# print(duplicates)\n",
    "# But pandas method says they are all unique. "
   ]
  },
  {
   "cell_type": "code",
   "execution_count": 15,
   "id": "52e52d43",
   "metadata": {},
   "outputs": [],
   "source": [
    "seps = {}\n",
    "problematic = {}\n",
    "# Loop through duplicate id's and determine if their angular seperation is less\n",
    "# than 5 degrees\n",
    "# Save duplicate void id. seperation, radius of each void and their redshift\n",
    "for id in duplicate_ids:\n",
    "    # Find index\n",
    "    mask = voids['ID'].isin([id])\n",
    "    table = voids[mask][:]\n",
    "    RAs = table[:]['RAdeg'].values * u.deg\n",
    "    DEs = table[:]['DEdeg'].values * u.deg\n",
    "    coords = SkyCoord(RAs, DEs)\n",
    "    temp_seps = dist_w_skycoord(coords)\n",
    "    \n",
    "    seps[str(id)] = temp_seps\n",
    "    if min(temp_seps) < 5:\n",
    "        problematic[str(id)] = {'seps': temp_seps,\n",
    "                                'radius': table[:]['r_ang_deg'].values,\n",
    "                                'z': table[:]['z'].values}"
   ]
  },
  {
   "cell_type": "code",
   "execution_count": 16,
   "id": "874b5e86",
   "metadata": {},
   "outputs": [],
   "source": [
    "# Display problematic void id's\n",
    "problematic; # Two duplicate id's were problematic"
   ]
  },
  {
   "cell_type": "code",
   "execution_count": 17,
   "id": "e31d21a3",
   "metadata": {},
   "outputs": [],
   "source": [
    "# Not used anywhere else in the code. Will probably get deleted\n",
    "# duplicate_mask = voids['ID'].isin(duplicate_ids)"
   ]
  },
  {
   "cell_type": "code",
   "execution_count": 18,
   "id": "a2cbc97d",
   "metadata": {},
   "outputs": [],
   "source": [
    "# Void coordinates in celestial frame\n",
    "void_coords_cel = SkyCoord(voids['RAdeg'].values*u.deg,\n",
    "                       voids['DEdeg'].values*u.deg,\n",
    "                       equinox='J2000')"
   ]
  },
  {
   "cell_type": "code",
   "execution_count": 19,
   "id": "30fdb13b",
   "metadata": {},
   "outputs": [],
   "source": [
    "# Out of curiosity. I wanted to see what a histogram for void seperations would\n",
    "# look like. \n",
    "# void_seps = dist_w_skycoord(void_coords_cel) #plot super anisotropic\n"
   ]
  },
  {
   "cell_type": "markdown",
   "id": "7fe01ac7",
   "metadata": {},
   "source": [
    "Notes on Void Catalog from 2017:\n",
    "    ZOBOV void finding algorithm\n",
    "    10,643 before \"quality cuts\"\n",
    "    1,228 Voids after \"quality cuts\" \n",
    "    effective radii spanning 20-100 Mpc/h\n",
    "    Uses SDSS DR 12 CMASS and LOWZ galaxy samples\n",
    "    z: 0.2 - 0.43 LOWZ Sample cut\n",
    "    z: 0.43 - 0.7 CMASS sample cut\n",
    "    z: 0.2 - 0.7 total \n",
    "\n",
    "    \n",
    "Notes on Void Catalog from 2012:\n",
    "    z: 0.2 - 0.44\n",
    "    Uses main sample and lumious red galaxy (LRG) from SDSS DR 7\n",
    "    Effective radii 5 - 135 Mpc/h\n",
    "    Modified Version of ZOBOV (parameter free)\n",
    "\n",
    "    "
   ]
  },
  {
   "cell_type": "markdown",
   "id": "96dce14f",
   "metadata": {},
   "source": [
    "# VHE Data Processing"
   ]
  },
  {
   "cell_type": "markdown",
   "id": "e5783b84",
   "metadata": {},
   "source": [
    "## Cleaning Data"
   ]
  },
  {
   "cell_type": "code",
   "execution_count": 20,
   "id": "40950807",
   "metadata": {},
   "outputs": [],
   "source": [
    "# import packages\n",
    "fhl3 = fits.open('3FHL.fit')"
   ]
  },
  {
   "cell_type": "code",
   "execution_count": 21,
   "id": "3424eaaf",
   "metadata": {},
   "outputs": [
    {
     "name": "stdout",
     "output_type": "stream",
     "text": [
      "Filename: 3FHL.fit\n",
      "No.    Name      Ver    Type      Cards   Dimensions   Format\n",
      "  0  PRIMARY       1 PrimaryHDU       9   ()      \n",
      "  1  LAT_Point_Source_Catalog    1 BinTableHDU    258   1556R x 44C   [18A, E, E, E, E, E, E, E, I, E, E, E, E, E, E, E, E, E, 11A, E, E, E, E, E, E, 5E, 10E, 5E, 5E, E, E, E, I, 18A, 18A, A, 21A, 7A, 26A, 26A, E, E, E, E]   \n",
      "  2  ExtendedSources    1 BinTableHDU     82   55R x 11C   [17A, E, E, E, E, 11A, E, E, E, 11A, 24A]   \n",
      "  3  ROIs          1 BinTableHDU    103   741R x 10C   [I, E, E, E, E, E, E, E, E, E]   \n",
      "  4  EnergyBounds    1 BinTableHDU     48   5R x 3C   [E, E, E]   \n",
      "WCS Keywords\n",
      "\n",
      "Number of WCS axes: 2\n",
      "CTYPE : ''  ''  \n",
      "CRVAL : 0.0  0.0  \n",
      "CRPIX : 0.0  0.0  \n",
      "PC1_1 PC1_2  : 1.0  0.0  \n",
      "PC2_1 PC2_2  : 0.0  1.0  \n",
      "CDELT : 1.0  1.0  \n",
      "NAXIS : 366  1556\n"
     ]
    },
    {
     "name": "stderr",
     "output_type": "stream",
     "text": [
      "WARNING: FITSFixedWarning: RADECSYS= 'FK5 ' \n",
      "the RADECSYS keyword is deprecated, use RADESYSa. [astropy.wcs.wcs]\n",
      "WARNING: FITSFixedWarning: MJDREFF = '7.428703703703703D-4' /Frac. part of MJD of SC clock start \n",
      "a floating-point value was expected. [astropy.wcs.wcs]\n",
      "WARNING: FITSFixedWarning: 'datfix' made the change 'Set DATEREF to '1858-11-16' from MJDREF.\n",
      "Set MJD-OBS to 54682.655283 from DATE-OBS.\n",
      "Set MJD-END to 57236.967546 from DATE-END'. [astropy.wcs.wcs]\n"
     ]
    }
   ],
   "source": [
    "# Determine where data is stored in fits file\n",
    "# FERMI DATA USES FK5 FRAME WRONG\n",
    "# Equatorial\n",
    "fhl3.info() # Used to see scope of data\n",
    "w = wcs.WCS(fhl3[1].header)\n",
    "print(w) # Used to find out what frame the data uses\n",
    "# w.world_axis_physical_types\n",
    "\n",
    "hdu = fits.open('3FHL.fit')[1]\n",
    "wcs = WCS(hdu.header)"
   ]
  },
  {
   "cell_type": "code",
   "execution_count": 22,
   "id": "2ea1c017",
   "metadata": {},
   "outputs": [
    {
     "name": "stderr",
     "output_type": "stream",
     "text": [
      "WARNING: UnitsWarning: 'photon/cm**2/GeV/s' contains multiple slashes, which is discouraged by the FITS standard [astropy.units.format.generic]\n",
      "WARNING: UnitsWarning: 'photon/cm**2/s' contains multiple slashes, which is discouraged by the FITS standard [astropy.units.format.generic]\n",
      "WARNING: UnitsWarning: 'erg/cm**2/s' contains multiple slashes, which is discouraged by the FITS standard [astropy.units.format.generic]\n"
     ]
    }
   ],
   "source": [
    "# Read in 3FHL Fits file\n",
    "data = QTable.read('3FHL.fit', hdu=1)"
   ]
  },
  {
   "cell_type": "code",
   "execution_count": 23,
   "id": "a539e6d4",
   "metadata": {},
   "outputs": [
    {
     "data": {
      "text/html": [
       "<div><i>QTable length=1556</i>\n",
       "<table id=\"table5891789776\" class=\"table-striped table-bordered table-condensed\">\n",
       "<thead><tr><th>Source_Name</th><th>RAJ2000</th><th>DEJ2000</th><th>GLON</th><th>GLAT</th><th>Conf_95_SemiMajor</th><th>Conf_95_SemiMinor</th><th>Conf_95_PosAng</th><th>ROI_num</th><th>Signif_Avg</th><th>Pivot_Energy</th><th>Flux_Density</th><th>Unc_Flux_Density</th><th>Flux</th><th>Unc_Flux</th><th>Energy_Flux</th><th>Unc_Energy_Flux</th><th>Signif_Curve</th><th>SpectrumType</th><th>Spectral_Index</th><th>Unc_Spectral_Index</th><th>beta</th><th>Unc_beta</th><th>PowerLaw_Index</th><th>Unc_PowerLaw_Index</th><th>Flux_Band</th><th>Unc_Flux_Band</th><th>nuFnu</th><th>Sqrt_TS_Band</th><th>Npred</th><th>HEP_Energy</th><th>HEP_Prob</th><th>Variability_BayesBlocks</th><th>Extended_Source_Name</th><th>ASSOC_GAM</th><th>TEVCAT_FLAG</th><th>ASSOC_TEV</th><th>CLASS</th><th>ASSOC1</th><th>ASSOC2</th><th>ASSOC_PROB_BAY</th><th>ASSOC_PROB_LR</th><th>Redshift</th><th>NuPeak_obs</th></tr></thead>\n",
       "<thead><tr><th></th><th>deg</th><th>deg</th><th>deg</th><th>deg</th><th>deg</th><th>deg</th><th>deg</th><th></th><th></th><th>GeV</th><th>ph / (GeV s cm2)</th><th>ph / (GeV s cm2)</th><th>ph / (s cm2)</th><th>ph / (s cm2)</th><th>erg / (s cm2)</th><th>erg / (s cm2)</th><th></th><th></th><th></th><th></th><th></th><th></th><th></th><th></th><th>ph / (s cm2)</th><th>ph / (s cm2)</th><th>erg / (s cm2)</th><th></th><th></th><th>GeV</th><th></th><th></th><th></th><th></th><th></th><th></th><th></th><th></th><th></th><th></th><th></th><th></th><th>Hz</th></tr></thead>\n",
       "<thead><tr><th>bytes18</th><th>float32</th><th>float32</th><th>float32</th><th>float32</th><th>float32</th><th>float32</th><th>float32</th><th>int16</th><th>float32</th><th>float32</th><th>float32</th><th>float32</th><th>float32</th><th>float32</th><th>float32</th><th>float32</th><th>float32</th><th>bytes11</th><th>float32</th><th>float32</th><th>float32</th><th>float32</th><th>float32</th><th>float32</th><th>float32[5]</th><th>float32[5,2]</th><th>float32[5]</th><th>float32[5]</th><th>float32</th><th>float32</th><th>float32</th><th>int16</th><th>bytes18</th><th>bytes18</th><th>bytes1</th><th>bytes21</th><th>bytes7</th><th>bytes26</th><th>bytes26</th><th>float32</th><th>float32</th><th>float32</th><th>float32</th></tr></thead>\n",
       "<tr><td>3FHL J0001.2-0748</td><td>0.3107</td><td>-7.8075</td><td>89.0094</td><td>-67.3118</td><td>0.0424</td><td>0.0424</td><td>———</td><td>64</td><td>5.362</td><td>23.73</td><td>5.3174e-13</td><td>2.0975e-13</td><td>2.9593e-11</td><td>1.1704e-11</td><td>1.6752e-12</td><td>1.0743e-12</td><td>1.02</td><td>PowerLaw</td><td>1.6724</td><td>0.8274</td><td>0.5916</td><td>0.7129</td><td>2.2226</td><td>0.4808</td><td>1.1127661292409385e-11 .. 1.142230074863933e-22</td><td>-6.076397631588071e-12 .. 6.529277118971777e-12</td><td>3.53398896518059e-13 .. 1.1789071844646614e-22</td><td>3.1458344 .. 0.0</td><td>7.63</td><td>86.975</td><td>0.9964</td><td>1</td><td></td><td>3FGL J0001.2-0748</td><td>N</td><td></td><td>bll</td><td>PMN J0001-0746</td><td></td><td>0.9974</td><td>0.9721</td><td>--</td><td>306196372258816.0</td></tr>\n",
       "<tr><td>3FHL J0001.9-4155</td><td>0.4849</td><td>-41.9303</td><td>334.1216</td><td>-72.0697</td><td>0.1018</td><td>0.1018</td><td>———</td><td>429</td><td>5.638</td><td>28.42</td><td>5.4253e-13</td><td>1.6839e-13</td><td>4.3230e-11</td><td>1.3428e-11</td><td>3.4900e-12</td><td>1.8276e-12</td><td>0.45</td><td>PowerLaw</td><td>1.7819</td><td>0.4941</td><td>0.1187</td><td>0.2798</td><td>1.9418</td><td>0.3100</td><td>2.1003905212313434e-11 .. 1.928788526283026e-18</td><td>-8.032090617615673e-12 .. 5.859409745595512e-12</td><td>6.745224496139401e-13 .. 2.0786751008437066e-18</td><td>4.899907 .. 0.0</td><td>12.51</td><td>266.625</td><td>0.9622</td><td>1</td><td></td><td>3FGL J0002.2-4152</td><td>N</td><td></td><td>bcu</td><td>1RXS J000135.5-415519</td><td></td><td>0.9960</td><td>0.0000</td><td>--</td><td>6309576467021824.0</td></tr>\n",
       "<tr><td>3FHL J0002.1-6728</td><td>0.5283</td><td>-67.4825</td><td>310.0868</td><td>-48.9549</td><td>0.0357</td><td>0.0357</td><td>———</td><td>386</td><td>8.470</td><td>20.82</td><td>1.2062e-12</td><td>3.2106e-13</td><td>5.0093e-11</td><td>1.3349e-11</td><td>2.3058e-12</td><td>9.5580e-13</td><td>1.53</td><td>PowerLaw</td><td>1.8109</td><td>0.6260</td><td>0.7933</td><td>0.5956</td><td>2.4285</td><td>0.3710</td><td>2.4550663585420907e-11 .. 1.9009975647596715e-21</td><td>-8.634194921530725e-12 .. 4.802190329417089e-12</td><td>7.734069461251547e-13 .. 1.9026535415719115e-21</td><td>5.900217 .. 0.0</td><td>17.11</td><td>52.152</td><td>0.9988</td><td>1</td><td></td><td>3FGL J0002.0-6722</td><td>N</td><td></td><td>bcu</td><td>SUMSS J000215-672653</td><td></td><td>0.0000</td><td>0.9395</td><td>--</td><td>4466832022962176.0</td></tr>\n",
       "<tr><td>3FHL J0003.3-5248</td><td>0.8300</td><td>-52.8150</td><td>318.9245</td><td>-62.7936</td><td>0.0425</td><td>0.0425</td><td>———</td><td>145</td><td>7.229</td><td>23.66</td><td>7.5065e-13</td><td>2.3102e-13</td><td>4.1560e-11</td><td>1.2839e-11</td><td>2.2874e-12</td><td>1.1145e-12</td><td>1.70</td><td>PowerLaw</td><td>1.6010</td><td>0.5644</td><td>0.9972</td><td>0.1721</td><td>2.2481</td><td>0.3732</td><td>2.0886386370433385e-11 .. 7.586755528904005e-23</td><td>-8.143967271390107e-12 .. 5.312990065259315e-12</td><td>6.626545557934793e-13 .. 7.800201726106361e-23</td><td>5.298393 .. 0.0</td><td>13.02</td><td>67.310</td><td>0.9636</td><td>1</td><td></td><td>3FGL J0003.2-5246</td><td>N</td><td></td><td>bcu</td><td>RBS 0006</td><td></td><td>0.9996</td><td>0.9716</td><td>--</td><td>7.079464172466995e+16</td></tr>\n",
       "<tr><td>3FHL J0007.0+7303</td><td>1.7647</td><td>73.0560</td><td>119.6625</td><td>10.4666</td><td>0.0101</td><td>0.0101</td><td>———</td><td>277</td><td>75.265</td><td>12.80</td><td>1.7436e-10</td><td>7.5950e-12</td><td>1.5308e-09</td><td>6.1341e-11</td><td>3.6785e-11</td><td>1.5973e-12</td><td>3.24</td><td>LogParabola</td><td>3.1751</td><td>0.2103</td><td>0.9021</td><td>0.2659</td><td>3.8315</td><td>0.1141</td><td>1.3514667163150307e-09 .. 3.839894826201812e-18</td><td>-5.7581186346800095e-11 .. 4.060417800599847e-12</td><td>4.109738938051777e-11 .. 2.923114423287347e-18</td><td>71.33829 .. 0.0</td><td>654.15</td><td>60.292</td><td>0.9972</td><td>1</td><td></td><td>3FGL J0007.0+7302</td><td>E</td><td>CTA 1</td><td>PSR</td><td>LAT PSR J0007+7303</td><td></td><td>1.0000</td><td>0.0000</td><td>--</td><td>———</td></tr>\n",
       "<tr><td>3FHL J0007.9+4711</td><td>1.9931</td><td>47.1920</td><td>115.3093</td><td>-15.0354</td><td>0.0196</td><td>0.0196</td><td>———</td><td>302</td><td>17.774</td><td>17.19</td><td>5.9778e-12</td><td>8.7683e-13</td><td>1.5131e-10</td><td>2.2181e-11</td><td>5.1444e-12</td><td>1.0540e-12</td><td>0.56</td><td>PowerLaw</td><td>2.6783</td><td>0.4196</td><td>0.1696</td><td>0.3282</td><td>2.8588</td><td>0.2685</td><td>1.0582407172776698e-10 .. 1.9819722609314394e-16</td><td>-1.7538378735415527e-11 .. 4.823510948298582e-12</td><td>3.278615009691399e-12 .. 1.866829778455242e-16</td><td>15.209969 .. 0.0</td><td>50.95</td><td>68.152</td><td>0.9759</td><td>1</td><td></td><td>3FGL J0008.0+4713</td><td>N</td><td></td><td>bll</td><td>MG4 J000800+4712</td><td></td><td>1.0000</td><td>0.9873</td><td>0.2800</td><td>2511884242649088.0</td></tr>\n",
       "<tr><td>3FHL J0008.4-2339</td><td>2.1243</td><td>-23.6514</td><td>50.2908</td><td>-79.7021</td><td>0.0366</td><td>0.0366</td><td>———</td><td>517</td><td>9.679</td><td>16.96</td><td>3.0610e-12</td><td>7.3475e-13</td><td>7.4602e-11</td><td>1.7896e-11</td><td>2.4733e-12</td><td>8.1716e-13</td><td>0.34</td><td>PowerLaw</td><td>2.7388</td><td>0.7145</td><td>0.1737</td><td>0.5618</td><td>2.9070</td><td>0.4520</td><td>5.8049919038349884e-11 .. 1.111731066388696e-20</td><td>-1.4419373681184844e-11 .. 6.106610009326552e-12</td><td>1.7951775049124263e-12 .. 1.0403957858439471e-20</td><td>9.133706 .. 0.0</td><td>19.83</td><td>71.122</td><td>0.9968</td><td>1</td><td></td><td>3FGL J0008.6-2340</td><td>N</td><td></td><td>bll</td><td>RBS 0016</td><td></td><td>0.9996</td><td>0.9673</td><td>0.1470</td><td>524807791706112.0</td></tr>\n",
       "<tr><td>3FHL J0009.1+0628</td><td>2.2874</td><td>6.4814</td><td>104.4637</td><td>-54.8669</td><td>0.0385</td><td>0.0385</td><td>———</td><td>402</td><td>6.282</td><td>18.92</td><td>1.2691e-12</td><td>4.3696e-13</td><td>4.1597e-11</td><td>1.4317e-11</td><td>1.6903e-12</td><td>8.9372e-13</td><td>0.10</td><td>PowerLaw</td><td>2.5529</td><td>0.8363</td><td>0.0122</td><td>0.4477</td><td>2.5800</td><td>0.5391</td><td>2.4161058570504323e-11 .. 6.648212400296014e-19</td><td>-9.546595285125914e-12 .. 6.287476182059715e-12</td><td>7.56649192086567e-13 .. 6.509505585304294e-19</td><td>4.678369 .. 0.0</td><td>10.95</td><td>12.256</td><td>0.9721</td><td>1</td><td></td><td>3FGL J0009.1+0630</td><td>N</td><td></td><td>bll</td><td>CRATES J000903.95+062821.5</td><td></td><td>0.9993</td><td>0.9878</td><td>--</td><td>663742366875648.0</td></tr>\n",
       "<tr><td>3FHL J0009.4+5030</td><td>2.3504</td><td>50.5049</td><td>116.1257</td><td>-11.8105</td><td>0.0176</td><td>0.0176</td><td>———</td><td>302</td><td>22.402</td><td>17.04</td><td>9.8252e-12</td><td>1.3192e-12</td><td>2.2191e-10</td><td>2.6212e-11</td><td>8.7336e-12</td><td>1.2488e-12</td><td>3.15</td><td>LogParabola</td><td>1.4305</td><td>0.3505</td><td>0.7965</td><td>0.3072</td><td>2.3610</td><td>0.1611</td><td>1.1627399737479394e-10 .. 9.252794024670394e-17</td><td>-1.8225134942873034e-11 .. 4.417992881255994e-12</td><td>3.8564164882293195e-12 .. 7.043676511694016e-17</td><td>15.780677 .. 0.0</td><td>78.50</td><td>72.762</td><td>0.9950</td><td>2</td><td></td><td>3FGL J0009.3+5030</td><td>C</td><td></td><td>bll</td><td>NVSS J000922+503028</td><td></td><td>1.0000</td><td>0.9698</td><td>--</td><td>1412536360501248.0</td></tr>\n",
       "<tr><td>...</td><td>...</td><td>...</td><td>...</td><td>...</td><td>...</td><td>...</td><td>...</td><td>...</td><td>...</td><td>...</td><td>...</td><td>...</td><td>...</td><td>...</td><td>...</td><td>...</td><td>...</td><td>...</td><td>...</td><td>...</td><td>...</td><td>...</td><td>...</td><td>...</td><td>...</td><td>...</td><td>...</td><td>...</td><td>...</td><td>...</td><td>...</td><td>...</td><td>...</td><td>...</td><td>...</td><td>...</td><td>...</td><td>...</td><td>...</td><td>...</td><td>...</td><td>...</td><td>...</td></tr>\n",
       "<tr><td>3FHL J2347.9-1630</td><td>356.9978</td><td>-16.5106</td><td>65.5355</td><td>-71.8766</td><td>0.0288</td><td>0.0288</td><td>———</td><td>450</td><td>9.297</td><td>16.28</td><td>3.1279e-12</td><td>8.0896e-13</td><td>6.7585e-11</td><td>1.7478e-11</td><td>2.0267e-12</td><td>6.5608e-13</td><td>0.07</td><td>PowerLaw</td><td>3.1259</td><td>0.7781</td><td>0.0104</td><td>0.5756</td><td>3.1324</td><td>0.5259</td><td>5.2519887744351124e-11 .. 1.07475916262313e-20</td><td>-1.4230782351132287e-11 .. 6.211813181888903e-12</td><td>1.610366462574675e-12 .. 9.768251786233997e-21</td><td>8.333468 .. 0.0</td><td>17.55</td><td>50.215</td><td>0.9869</td><td>3</td><td></td><td>3FGL J2348.0-1630</td><td>N</td><td></td><td>fsrq</td><td>PKS 2345-16</td><td></td><td>0.9994</td><td>0.9999</td><td>0.5760</td><td>9332548698112.0</td></tr>\n",
       "<tr><td>3FHL J2350.5-3006</td><td>357.6354</td><td>-30.1070</td><td>16.7759</td><td>-76.3194</td><td>0.0491</td><td>0.0491</td><td>———</td><td>70</td><td>6.497</td><td>21.20</td><td>1.0879e-12</td><td>3.2997e-13</td><td>4.7039e-11</td><td>1.4274e-11</td><td>2.2909e-12</td><td>1.1390e-12</td><td>0.63</td><td>PowerLaw</td><td>2.1012</td><td>0.6173</td><td>0.2880</td><td>0.4870</td><td>2.3678</td><td>0.4234</td><td>2.193922474247323e-11 .. 4.589293329650764e-16</td><td>-8.926376131312974e-12 .. 6.09747408814032e-12</td><td>6.927890878159759e-13 .. 4.634690060458858e-16</td><td>4.0536985 .. 0.0</td><td>12.84</td><td>49.286</td><td>0.9644</td><td>1</td><td></td><td>3FGL J2350.4-3004</td><td>N</td><td></td><td>bll</td><td>NVSS J235034-300603</td><td></td><td>0.9998</td><td>0.9218</td><td>0.2237</td><td>3981075248316416.0</td></tr>\n",
       "<tr><td>3FHL J2351.5-7559</td><td>357.8926</td><td>-75.9890</td><td>307.6546</td><td>-40.5855</td><td>0.0650</td><td>0.0650</td><td>———</td><td>55</td><td>6.067</td><td>26.82</td><td>4.9826e-13</td><td>1.6350e-13</td><td>3.5689e-11</td><td>1.1769e-11</td><td>2.3897e-12</td><td>1.2622e-12</td><td>0.61</td><td>PowerLaw</td><td>1.8474</td><td>0.5802</td><td>0.2003</td><td>0.3661</td><td>2.0816</td><td>0.3532</td><td>2.373083153595079e-11 .. 6.937560488759793e-17</td><td>-8.570626847115292e-12 .. 4.792870527542403e-12</td><td>7.578735815999549e-13 .. 7.316245096675549e-17</td><td>5.2754674 .. 0.0</td><td>12.41</td><td>134.721</td><td>0.9892</td><td>1</td><td></td><td>3FGL J2351.9-7601</td><td>N</td><td></td><td>bll</td><td>SUMSS J235115-760012</td><td></td><td>0.0000</td><td>0.9625</td><td>--</td><td>———</td></tr>\n",
       "<tr><td>3FHL J2352.1+1753</td><td>358.0415</td><td>17.8865</td><td>103.5764</td><td>-42.7466</td><td>0.0838</td><td>0.0838</td><td>———</td><td>185</td><td>4.117</td><td>16.97</td><td>9.9227e-13</td><td>4.3475e-13</td><td>2.4254e-11</td><td>1.0640e-11</td><td>7.6327e-13</td><td>4.2356e-13</td><td>0.02</td><td>PowerLaw</td><td>3.0175</td><td>1.2164</td><td>0.0100</td><td>0.8524</td><td>3.0166</td><td>0.8270</td><td>1.5997076927010134e-11 .. 2.91076876556969e-20</td><td>-7.581037360371301e-12 .. 5.82170813293037e-12</td><td>4.926487820119951e-13 .. 2.6849966028393035e-20</td><td>3.5496242 .. 0.0</td><td>6.73</td><td>43.107</td><td>0.9668</td><td>1</td><td></td><td>3FGL J2352.0+1752</td><td>N</td><td></td><td>bll</td><td>CLASS J2352+1749</td><td></td><td>0.9926</td><td>0.0000</td><td>--</td><td>1737799870971904.0</td></tr>\n",
       "<tr><td>3FHL J2356.2+4035</td><td>359.0746</td><td>40.5985</td><td>111.7521</td><td>-21.0732</td><td>0.0298</td><td>0.0298</td><td>———</td><td>312</td><td>7.625</td><td>29.01</td><td>5.2427e-13</td><td>1.5104e-13</td><td>4.3400e-11</td><td>1.2511e-11</td><td>3.6677e-12</td><td>1.8547e-12</td><td>0.35</td><td>PowerLaw</td><td>2.0233</td><td>0.4242</td><td>-0.0706</td><td>0.1926</td><td>1.9095</td><td>0.2975</td><td>2.577772544032353e-11 .. 3.110793879147034e-16</td><td>-8.514681147653302e-12 .. 5.41346177954094e-12</td><td>8.288917512436211e-13 .. 3.3694581536015923e-16</td><td>6.2127647 .. 0.0</td><td>13.81</td><td>417.861</td><td>0.9119</td><td>1</td><td></td><td>3FGL J2356.0+4037</td><td>N</td><td></td><td>bll</td><td>NVSS J235612+403648</td><td></td><td>0.9998</td><td>0.9199</td><td>0.1310</td><td>6309576467021824.0</td></tr>\n",
       "<tr><td>3FHL J2357.4-1717</td><td>359.3690</td><td>-17.2996</td><td>68.4009</td><td>-74.1285</td><td>0.0327</td><td>0.0327</td><td>———</td><td>450</td><td>6.961</td><td>29.52</td><td>5.4394e-13</td><td>1.7370e-13</td><td>4.6654e-11</td><td>1.4945e-11</td><td>3.7598e-12</td><td>1.9583e-12</td><td>1.11</td><td>PowerLaw</td><td>1.5762</td><td>0.5187</td><td>0.3513</td><td>0.3771</td><td>1.9430</td><td>0.3116</td><td>1.9003682308338377e-11 .. 2.7142878438116305e-20</td><td>-8.131149399626114e-12 .. 6.474219597929487e-12</td><td>6.102568537308395e-13 .. 2.9246498902240956e-20</td><td>4.552822 .. 0.0</td><td>12.30</td><td>146.757</td><td>0.9838</td><td>1</td><td></td><td>3FGL J2357.4-1716</td><td>N</td><td></td><td>bll</td><td>RBS 2066</td><td></td><td>0.9999</td><td>0.9631</td><td>--</td><td>8.912525290635264e+16</td></tr>\n",
       "<tr><td>3FHL J2358.4-1808</td><td>359.6205</td><td>-18.1408</td><td>66.5520</td><td>-74.8501</td><td>0.0511</td><td>0.0511</td><td>———</td><td>450</td><td>6.493</td><td>18.23</td><td>1.6335e-12</td><td>4.9686e-13</td><td>4.8680e-11</td><td>1.4811e-11</td><td>1.7825e-12</td><td>7.6480e-13</td><td>1.83</td><td>PowerLaw</td><td>2.0532</td><td>0.6673</td><td>0.9999</td><td>0.0134</td><td>2.7312</td><td>0.5024</td><td>2.673568311184482e-11 .. 6.034963538551273e-21</td><td>-9.960717146928477e-12 .. 6.255153513212708e-12</td><td>8.323881948296696e-13 .. 5.784447770292397e-21</td><td>4.3616037 .. 0.0</td><td>12.74</td><td>28.304</td><td>0.9845</td><td>1</td><td></td><td>3FGL J2358.6-1809</td><td>N</td><td></td><td></td><td></td><td></td><td>0.0000</td><td>0.0000</td><td>--</td><td>———</td></tr>\n",
       "<tr><td>3FHL J2358.5+3829</td><td>359.6266</td><td>38.4963</td><td>111.6905</td><td>-23.2173</td><td>0.0584</td><td>0.0584</td><td>———</td><td>312</td><td>5.797</td><td>18.24</td><td>1.4104e-12</td><td>4.4534e-13</td><td>4.2106e-11</td><td>1.3321e-11</td><td>1.7404e-12</td><td>9.8271e-13</td><td>0.44</td><td>PowerLaw</td><td>2.7466</td><td>0.6917</td><td>-0.1329</td><td>0.3013</td><td>2.5576</td><td>0.5781</td><td>2.8244280178557624e-11 .. 9.750687270255863e-17</td><td>-9.458818277241487e-12 .. 5.279134334540414e-12</td><td>8.852924903574033e-13 .. 9.577884608082105e-17</td><td>5.7128677 .. 0.0</td><td>13.13</td><td>57.301</td><td>0.9782</td><td>1</td><td></td><td>3FGL J2358.5+3827</td><td>N</td><td></td><td>bcu</td><td>B3 2355+382</td><td></td><td>0.0000</td><td>0.9254</td><td>--</td><td>———</td></tr>\n",
       "<tr><td>3FHL J2359.1-3038</td><td>359.7760</td><td>-30.6397</td><td>12.7909</td><td>-78.0268</td><td>0.0231</td><td>0.0231</td><td>———</td><td>70</td><td>11.551</td><td>21.21</td><td>1.8903e-12</td><td>4.1965e-13</td><td>8.1774e-11</td><td>1.8149e-11</td><td>4.2849e-12</td><td>1.6806e-12</td><td>0.08</td><td>PowerLaw</td><td>2.2865</td><td>0.4632</td><td>0.0101</td><td>0.2434</td><td>2.2944</td><td>0.3092</td><td>5.5015617062004196e-11 .. 6.03745629514858e-17</td><td>-1.3604539370049018e-11 .. 8.488617794788489e-12</td><td>1.7422797145977276e-12 .. 6.164239260251318e-17</td><td>9.39347 .. 0.0</td><td>22.41</td><td>111.366</td><td>0.9607</td><td>1</td><td></td><td>3FGL J2359.3-3038</td><td>P</td><td>H 2356-309</td><td>bll</td><td>H 2356-309</td><td></td><td>0.9999</td><td>0.9975</td><td>0.1650</td><td>2.8183879480036557e+17</td></tr>\n",
       "<tr><td>3FHL J2359.3-2049</td><td>359.8293</td><td>-20.8256</td><td>58.0522</td><td>-76.5411</td><td>0.0722</td><td>0.0722</td><td>———</td><td>580</td><td>4.638</td><td>19.02</td><td>9.1911e-13</td><td>3.6043e-13</td><td>3.0559e-11</td><td>1.1979e-11</td><td>1.2593e-12</td><td>7.4704e-13</td><td>0.32</td><td>PowerLaw</td><td>2.3402</td><td>0.9445</td><td>0.1851</td><td>0.6600</td><td>2.5615</td><td>0.5838</td><td>2.325379125367455e-11 .. 8.377873459838163e-21</td><td>-8.939082980774504e-12 .. 6.2386545582326924e-12</td><td>7.287586333004636e-13 .. 8.224765074952725e-21</td><td>4.8207045 .. 0.0</td><td>8.06</td><td>64.177</td><td>0.9859</td><td>1</td><td></td><td>3FGL J2359.5-2052</td><td>N</td><td></td><td>bll</td><td>TXS 2356-210</td><td></td><td>0.9894</td><td>0.9906</td><td>0.0960</td><td>4073799565705216.0</td></tr>\n",
       "</table></div>"
      ],
      "text/plain": [
       "<QTable length=1556>\n",
       "   Source_Name     RAJ2000  DEJ2000  ... Redshift       NuPeak_obs      \n",
       "                     deg      deg    ...                    Hz          \n",
       "     bytes18       float32  float32  ... float32         float32        \n",
       "------------------ -------- -------- ... -------- ----------------------\n",
       "3FHL J0001.2-0748    0.3107  -7.8075 ...       --      306196372258816.0\n",
       "3FHL J0001.9-4155    0.4849 -41.9303 ...       --     6309576467021824.0\n",
       "3FHL J0002.1-6728    0.5283 -67.4825 ...       --     4466832022962176.0\n",
       "3FHL J0003.3-5248    0.8300 -52.8150 ...       --  7.079464172466995e+16\n",
       "3FHL J0007.0+7303    1.7647  73.0560 ...       --                    ———\n",
       "3FHL J0007.9+4711    1.9931  47.1920 ...   0.2800     2511884242649088.0\n",
       "3FHL J0008.4-2339    2.1243 -23.6514 ...   0.1470      524807791706112.0\n",
       "3FHL J0009.1+0628    2.2874   6.4814 ...       --      663742366875648.0\n",
       "3FHL J0009.4+5030    2.3504  50.5049 ...       --     1412536360501248.0\n",
       "               ...      ...      ... ...      ...                    ...\n",
       "3FHL J2347.9-1630  356.9978 -16.5106 ...   0.5760        9332548698112.0\n",
       "3FHL J2350.5-3006  357.6354 -30.1070 ...   0.2237     3981075248316416.0\n",
       "3FHL J2351.5-7559  357.8926 -75.9890 ...       --                    ———\n",
       "3FHL J2352.1+1753  358.0415  17.8865 ...       --     1737799870971904.0\n",
       "3FHL J2356.2+4035  359.0746  40.5985 ...   0.1310     6309576467021824.0\n",
       "3FHL J2357.4-1717  359.3690 -17.2996 ...       --  8.912525290635264e+16\n",
       "3FHL J2358.4-1808  359.6205 -18.1408 ...       --                    ———\n",
       "3FHL J2358.5+3829  359.6266  38.4963 ...       --                    ———\n",
       "3FHL J2359.1-3038  359.7760 -30.6397 ...   0.1650 2.8183879480036557e+17\n",
       "3FHL J2359.3-2049  359.8293 -20.8256 ...   0.0960     4073799565705216.0"
      ]
     },
     "execution_count": 23,
     "metadata": {},
     "output_type": "execute_result"
    }
   ],
   "source": [
    "data  # Used to see data table "
   ]
  },
  {
   "cell_type": "code",
   "execution_count": 24,
   "id": "0790de99",
   "metadata": {},
   "outputs": [],
   "source": [
    "# Clean 3FHL data to galactic sources only\n",
    "class_data = data['CLASS']\n",
    "\n",
    "# mask = (class_data == 'sbg    ') | \\\n",
    "#        (class_data == 'bll    ') | \\\n",
    "#        (class_data == 'fsrq   ') | \\\n",
    "#        (class_data == 'agn    ') | \\\n",
    "#        (class_data == 'rdg    ') | \\\n",
    "#        (class_data == 'bcu    ') # Ugly but it works\n",
    "\n",
    "anti_mask = ~((class_data == 'psr    ') | \\\n",
    "              (class_data == 'PSR    ') | \\\n",
    "              (class_data == 'pwn    ') | \\\n",
    "              (class_data == 'PWN    ') | \\\n",
    "              (class_data == 'snr    ') | \\\n",
    "              (class_data == 'SNR    ') | \\\n",
    "              (class_data == 'hmb    ') | \\\n",
    "              (class_data == 'HMB    ') | \\\n",
    "              (class_data == 'BIN    ') | \\\n",
    "              (class_data == 'sfr    ') | \\\n",
    "              (class_data == 'SFR    ')\n",
    "              ) # Ugly but it works\n",
    "\n",
    "gal_src = data[anti_mask] # Cleaned 3FHL data that contains data from galactic sources only"
   ]
  },
  {
   "cell_type": "code",
   "execution_count": 25,
   "id": "d19a6b47",
   "metadata": {},
   "outputs": [],
   "source": [
    "Counter(gal_src['CLASS']); # Matches Table 2 in 3FHL Paper we are good to go"
   ]
  },
  {
   "cell_type": "code",
   "execution_count": 26,
   "id": "2cfa1ad6",
   "metadata": {},
   "outputs": [],
   "source": [
    "# Filtering out sources without Redshift information\n",
    "z_data = gal_src['Redshift']\n",
    "z_mask = ~np.ma.getmaskarray(z_data) # z data is float, if no z data, it is an np.ma.mask object\n",
    "gal_src_wz = gal_src[z_mask] # Galactic Sources with redshift information"
   ]
  },
  {
   "cell_type": "code",
   "execution_count": 27,
   "id": "cf2f6d75",
   "metadata": {},
   "outputs": [
    {
     "name": "stdout",
     "output_type": "stream",
     "text": [
      "Max z: 2.5339999198913574\n",
      "Min z: 0.003000000026077032\n",
      "Range: 2.5309998989105225 \n"
     ]
    },
    {
     "data": {
      "image/png": "[encoded data removed]",
      "text/plain": [
       "<Figure size 640x480 with 1 Axes>"
      ]
     },
     "metadata": {},
     "output_type": "display_data"
    }
   ],
   "source": [
    "# Plots histogram of Gamma Ray Source Redshift Distribution\n",
    "plt.hist(gal_src_wz['Redshift'], bins=100, histtype=\"step\") # 100 bins chosen arbitrarily\n",
    "plt.xlabel('z')\n",
    "plt.ylabel('Count')\n",
    "plt.title('Z distribution of VHE Sources')\n",
    "plt.grid()\n",
    "plt.tight_layout()\n",
    "\n",
    "# z range\n",
    "max_z = gal_src_wz['Redshift'].max()\n",
    "min_z = gal_src_wz['Redshift'].min()\n",
    "print(f\"Max z: {max_z}\\nMin z: {min_z}\\nRange: {max_z - min_z} \")"
   ]
  },
  {
   "cell_type": "markdown",
   "id": "ea09eb88",
   "metadata": {},
   "source": [
    "Plot of Redshift distribution for extra galactic gamma ray sources"
   ]
  },
  {
   "cell_type": "markdown",
   "id": "be19224e",
   "metadata": {},
   "source": [
    "## Analysis"
   ]
  },
  {
   "cell_type": "code",
   "execution_count": null,
   "id": "391d5290",
   "metadata": {},
   "outputs": [],
   "source": []
  },
  {
   "cell_type": "markdown",
   "id": "77961512",
   "metadata": {},
   "source": [
    "### Apply ± 10 deg mask to Fermi Data"
   ]
  },
  {
   "cell_type": "code",
   "execution_count": 28,
   "id": "a6df396d",
   "metadata": {},
   "outputs": [],
   "source": [
    "ahh = gal_src_wz\n",
    "temp =ahh[:]['Source_Name','RAJ2000', 'DEJ2000', 'Redshift', \n",
    "             'TEVCAT_FLAG',\n",
    "             'Spectral_Index', 'Unc_Spectral_Index',\n",
    "             'Flux', 'Unc_Flux',\n",
    "             ] \n",
    "work_vhe = temp.to_pandas() # Create GRS pandas table to work with throughout the code\n",
    "\n"
   ]
  },
  {
   "cell_type": "code",
   "execution_count": 29,
   "id": "aad2709d",
   "metadata": {},
   "outputs": [],
   "source": [
    "\n",
    "work_vhe = work_vhe.rename(columns={'RAJ2000': 'RAdeg',\n",
    "                                    'DEJ2000': 'DEdeg',\n",
    "                                    'Redshift': 'z'}) # MUST BE CONSISTENT WITH CONVENCTION USED IN DATAPARSER\n",
    "\n",
    "vhe_cmvd = cosmo.comoving_distance(work_vhe['z']) # Comoving distance to void center\n",
    "work_vhe['cmvd_Mpc'] = vhe_cmvd.value # add it to data table\n",
    "\n",
    "# Find sources in front of our furthest voids\n",
    "mask_z = work_vhe['z'] <= max(voids.z)\n",
    "\n",
    "# Keep those sources\n",
    "work_vhe = work_vhe[mask_z] # After this mask. we drop to 367 sources\n",
    "\n",
    "\n",
    "work_vhe = work_vhe.reset_index(drop=True)\n",
    "\n",
    "vhe_coords_cel = SkyCoord(work_vhe.RAdeg.values*u.deg, work_vhe.DEdeg.values * u.deg, equinox='J2000', frame='fk5')\n",
    "vhe_coords_gal =  vhe_coords_cel.galactic # book keeping. Source coords in galactic coords\n",
    "work_vhe['RAdeg_gal'] = vhe_coords_gal.l.deg\n",
    "work_vhe['DEdeg_gal'] = vhe_coords_gal.b.deg\n",
    "# work_vhe['RAdeg'] += 45\n",
    "\n",
    "\n",
    "# Apply SDSS footprint mask\n",
    "m1 = ~get_mask(work_vhe,\n",
    "                  RA_lo=0, RA_hi=110,\n",
    "                  DE_lo=32)\n",
    "\n",
    "m2 = ~get_mask(work_vhe,\n",
    "                  DE_lo=65)\n",
    "m3 = ~get_mask(work_vhe,\n",
    "                   DE_hi=-10)\n",
    "m4 = ~get_mask(work_vhe,\n",
    "                  RA_lo=270,\n",
    "                  RA_hi=315)\n",
    "m5 = ~get_mask(work_vhe,\n",
    "               RA_hi=270,\n",
    "               RA_lo=262)\n",
    "m6 = ~get_mask(work_vhe,\n",
    "               RA_lo=265,\n",
    "               DE_lo=37)\n",
    "m7 =  ~get_mask(work_vhe,\n",
    "                RA_lo=45,\n",
    "                RA_hi=100)\n",
    "m8 = ~get_mask(work_vhe,\n",
    "               RA_lo=225,\n",
    "               RA_hi=320,\n",
    "               DE_hi=0)\n",
    "m9 = ~get_mask(work_vhe,\n",
    "               RA_lo = 45,\n",
    "               RA_hi=182,\n",
    "               DE_hi=0)\n",
    "m10 = ~get_mask(work_vhe,\n",
    "                RA_lo=315,\n",
    "                DE_hi=-5)\n",
    "m11 = ~get_mask(work_vhe,\n",
    "                RA_lo=10,\n",
    "                RA_hi=15,\n",
    "                DE_hi=9)\n",
    "m = get_ands([m1,\n",
    "              m2,\n",
    "              m3,\n",
    "              m4,\n",
    "              m5,\n",
    "              m6,\n",
    "              m7,\n",
    "              m8,\n",
    "              m9,\n",
    "              m10,\n",
    "              m11])\n",
    "work_vhe = work_vhe[m].copy()\n",
    "\n",
    "# Indices of gamma ray sources that fall outside of SDSS footprint\n",
    "exclude = [21,\n",
    "           98,\n",
    "           90,\n",
    "           107,\n",
    "           279,\n",
    "           277,\n",
    "           278,\n",
    "           241,\n",
    "           257,\n",
    "           325,\n",
    "           45,\n",
    "           40,\n",
    "           33,\n",
    "           35,\n",
    "           31,\n",
    "           36,\n",
    "           29\n",
    "           ]\n",
    "\n",
    "# Final Gamma Ray Source table after table has been cleaned against galactic mask\n",
    "# and data outside of SDSS footprint has been removed.\n",
    "work_vhe = work_vhe.loc[~work_vhe.index.isin(exclude)]\n",
    "\n"
   ]
  },
  {
   "cell_type": "code",
   "execution_count": 30,
   "id": "1be4d00b",
   "metadata": {},
   "outputs": [],
   "source": [
    "# Adding the original index numbers to check if my index method is working as \n",
    "# intended. In general, the actual index of the data should match OG_index\n",
    "# I can not save this before because i reset the indices before applying the\n",
    "# SDSS mask. I would have to redo the SDSS mask with the original indices. \n",
    "work_vhe.insert(0, 'OG_idx', work_vhe.index)"
   ]
  },
  {
   "cell_type": "code",
   "execution_count": 31,
   "id": "886fe840",
   "metadata": {},
   "outputs": [
    {
     "data": {
      "text/html": [
       "<div>\n",
       "<style scoped>\n",
       "    .dataframe tbody tr th:only-of-type {\n",
       "        vertical-align: middle;\n",
       "    }\n",
       "\n",
       "    .dataframe tbody tr th {\n",
       "        vertical-align: top;\n",
       "    }\n",
       "\n",
       "    .dataframe thead th {\n",
       "        text-align: right;\n",
       "    }\n",
       "</style>\n",
       "<table border=\"1\" class=\"dataframe\">\n",
       "  <thead>\n",
       "    <tr style=\"text-align: right;\">\n",
       "      <th></th>\n",
       "      <th>OG_idx</th>\n",
       "      <th>Source_Name</th>\n",
       "      <th>RAdeg</th>\n",
       "      <th>DEdeg</th>\n",
       "      <th>z</th>\n",
       "      <th>TEVCAT_FLAG</th>\n",
       "      <th>Spectral_Index</th>\n",
       "      <th>Unc_Spectral_Index</th>\n",
       "      <th>Flux</th>\n",
       "      <th>Unc_Flux</th>\n",
       "      <th>cmvd_Mpc</th>\n",
       "      <th>RAdeg_gal</th>\n",
       "      <th>DEdeg_gal</th>\n",
       "    </tr>\n",
       "  </thead>\n",
       "  <tbody>\n",
       "    <tr>\n",
       "      <th>3</th>\n",
       "      <td>3</td>\n",
       "      <td>b'3FHL J0018.6+2946 '</td>\n",
       "      <td>4.652533</td>\n",
       "      <td>29.782143</td>\n",
       "      <td>0.100</td>\n",
       "      <td>b'N'</td>\n",
       "      <td>1.680245</td>\n",
       "      <td>0.490069</td>\n",
       "      <td>5.057661e-11</td>\n",
       "      <td>1.449517e-11</td>\n",
       "      <td>422.982362</td>\n",
       "      <td>114.479801</td>\n",
       "      <td>-32.550272</td>\n",
       "    </tr>\n",
       "    <tr>\n",
       "      <th>5</th>\n",
       "      <td>5</td>\n",
       "      <td>b'3FHL J0037.8+1239 '</td>\n",
       "      <td>9.461507</td>\n",
       "      <td>12.651176</td>\n",
       "      <td>0.089</td>\n",
       "      <td>b'N'</td>\n",
       "      <td>2.170168</td>\n",
       "      <td>0.693109</td>\n",
       "      <td>5.253420e-11</td>\n",
       "      <td>1.595452e-11</td>\n",
       "      <td>377.399142</td>\n",
       "      <td>117.760924</td>\n",
       "      <td>-50.084057</td>\n",
       "    </tr>\n",
       "    <tr>\n",
       "      <th>12</th>\n",
       "      <td>12</td>\n",
       "      <td>b'3FHL J0109.1+1817 '</td>\n",
       "      <td>17.291544</td>\n",
       "      <td>18.284430</td>\n",
       "      <td>0.443</td>\n",
       "      <td>b'N'</td>\n",
       "      <td>3.619309</td>\n",
       "      <td>0.954015</td>\n",
       "      <td>5.499022e-11</td>\n",
       "      <td>1.554123e-11</td>\n",
       "      <td>1722.784655</td>\n",
       "      <td>128.824926</td>\n",
       "      <td>-44.384373</td>\n",
       "    </tr>\n",
       "    <tr>\n",
       "      <th>14</th>\n",
       "      <td>14</td>\n",
       "      <td>b'3FHL J0112.1+2245 '</td>\n",
       "      <td>18.032927</td>\n",
       "      <td>22.755352</td>\n",
       "      <td>0.265</td>\n",
       "      <td>b'P'</td>\n",
       "      <td>2.591132</td>\n",
       "      <td>0.260177</td>\n",
       "      <td>5.129682e-10</td>\n",
       "      <td>4.337492e-11</td>\n",
       "      <td>1077.800370</td>\n",
       "      <td>129.151333</td>\n",
       "      <td>-39.866364</td>\n",
       "    </tr>\n",
       "    <tr>\n",
       "      <th>17</th>\n",
       "      <td>17</td>\n",
       "      <td>b'3FHL J0114.8+1324 '</td>\n",
       "      <td>18.706766</td>\n",
       "      <td>13.404436</td>\n",
       "      <td>0.583</td>\n",
       "      <td>b'N'</td>\n",
       "      <td>1.956460</td>\n",
       "      <td>0.518569</td>\n",
       "      <td>9.477722e-11</td>\n",
       "      <td>2.022495e-11</td>\n",
       "      <td>2186.405655</td>\n",
       "      <td>131.632717</td>\n",
       "      <td>-49.071776</td>\n",
       "    </tr>\n",
       "    <tr>\n",
       "      <th>...</th>\n",
       "      <td>...</td>\n",
       "      <td>...</td>\n",
       "      <td>...</td>\n",
       "      <td>...</td>\n",
       "      <td>...</td>\n",
       "      <td>...</td>\n",
       "      <td>...</td>\n",
       "      <td>...</td>\n",
       "      <td>...</td>\n",
       "      <td>...</td>\n",
       "      <td>...</td>\n",
       "      <td>...</td>\n",
       "      <td>...</td>\n",
       "    </tr>\n",
       "    <tr>\n",
       "      <th>347</th>\n",
       "      <td>347</td>\n",
       "      <td>b'3FHL J2314.0+1445 '</td>\n",
       "      <td>348.503143</td>\n",
       "      <td>14.754387</td>\n",
       "      <td>0.164</td>\n",
       "      <td>b'C'</td>\n",
       "      <td>1.573969</td>\n",
       "      <td>0.426425</td>\n",
       "      <td>8.701453e-11</td>\n",
       "      <td>1.930824e-11</td>\n",
       "      <td>683.451557</td>\n",
       "      <td>90.529233</td>\n",
       "      <td>-41.906358</td>\n",
       "    </tr>\n",
       "    <tr>\n",
       "      <th>349</th>\n",
       "      <td>349</td>\n",
       "      <td>b'3FHL J2322.6+3436 '</td>\n",
       "      <td>350.663483</td>\n",
       "      <td>34.605709</td>\n",
       "      <td>0.098</td>\n",
       "      <td>b'C'</td>\n",
       "      <td>1.639653</td>\n",
       "      <td>0.343481</td>\n",
       "      <td>6.472586e-11</td>\n",
       "      <td>1.591682e-11</td>\n",
       "      <td>414.712131</td>\n",
       "      <td>102.902685</td>\n",
       "      <td>-24.789353</td>\n",
       "    </tr>\n",
       "    <tr>\n",
       "      <th>356</th>\n",
       "      <td>356</td>\n",
       "      <td>b'3FHL J2338.9+2123 '</td>\n",
       "      <td>354.744965</td>\n",
       "      <td>21.396553</td>\n",
       "      <td>0.291</td>\n",
       "      <td>b'N'</td>\n",
       "      <td>1.909309</td>\n",
       "      <td>0.666608</td>\n",
       "      <td>4.831319e-11</td>\n",
       "      <td>1.504136e-11</td>\n",
       "      <td>1175.980669</td>\n",
       "      <td>101.252166</td>\n",
       "      <td>-38.405682</td>\n",
       "    </tr>\n",
       "    <tr>\n",
       "      <th>358</th>\n",
       "      <td>358</td>\n",
       "      <td>b'3FHL J2343.6+3439 '</td>\n",
       "      <td>355.901154</td>\n",
       "      <td>34.651287</td>\n",
       "      <td>0.366</td>\n",
       "      <td>b'C'</td>\n",
       "      <td>1.790195</td>\n",
       "      <td>0.490599</td>\n",
       "      <td>6.570089e-11</td>\n",
       "      <td>1.642876e-11</td>\n",
       "      <td>1451.554321</td>\n",
       "      <td>107.425531</td>\n",
       "      <td>-26.169645</td>\n",
       "    </tr>\n",
       "    <tr>\n",
       "      <th>360</th>\n",
       "      <td>360</td>\n",
       "      <td>b'3FHL J2346.6+0705 '</td>\n",
       "      <td>356.672607</td>\n",
       "      <td>7.084443</td>\n",
       "      <td>0.172</td>\n",
       "      <td>b'C'</td>\n",
       "      <td>1.556780</td>\n",
       "      <td>0.380523</td>\n",
       "      <td>1.325159e-10</td>\n",
       "      <td>2.413475e-11</td>\n",
       "      <td>715.436299</td>\n",
       "      <td>95.990984</td>\n",
       "      <td>-52.367566</td>\n",
       "    </tr>\n",
       "  </tbody>\n",
       "</table>\n",
       "<p>144 rows × 13 columns</p>\n",
       "</div>"
      ],
      "text/plain": [
       "     OG_idx            Source_Name       RAdeg      DEdeg      z TEVCAT_FLAG  \\\n",
       "3         3  b'3FHL J0018.6+2946 '    4.652533  29.782143  0.100        b'N'   \n",
       "5         5  b'3FHL J0037.8+1239 '    9.461507  12.651176  0.089        b'N'   \n",
       "12       12  b'3FHL J0109.1+1817 '   17.291544  18.284430  0.443        b'N'   \n",
       "14       14  b'3FHL J0112.1+2245 '   18.032927  22.755352  0.265        b'P'   \n",
       "17       17  b'3FHL J0114.8+1324 '   18.706766  13.404436  0.583        b'N'   \n",
       "..      ...                    ...         ...        ...    ...         ...   \n",
       "347     347  b'3FHL J2314.0+1445 '  348.503143  14.754387  0.164        b'C'   \n",
       "349     349  b'3FHL J2322.6+3436 '  350.663483  34.605709  0.098        b'C'   \n",
       "356     356  b'3FHL J2338.9+2123 '  354.744965  21.396553  0.291        b'N'   \n",
       "358     358  b'3FHL J2343.6+3439 '  355.901154  34.651287  0.366        b'C'   \n",
       "360     360  b'3FHL J2346.6+0705 '  356.672607   7.084443  0.172        b'C'   \n",
       "\n",
       "     Spectral_Index  Unc_Spectral_Index          Flux      Unc_Flux  \\\n",
       "3          1.680245            0.490069  5.057661e-11  1.449517e-11   \n",
       "5          2.170168            0.693109  5.253420e-11  1.595452e-11   \n",
       "12         3.619309            0.954015  5.499022e-11  1.554123e-11   \n",
       "14         2.591132            0.260177  5.129682e-10  4.337492e-11   \n",
       "17         1.956460            0.518569  9.477722e-11  2.022495e-11   \n",
       "..              ...                 ...           ...           ...   \n",
       "347        1.573969            0.426425  8.701453e-11  1.930824e-11   \n",
       "349        1.639653            0.343481  6.472586e-11  1.591682e-11   \n",
       "356        1.909309            0.666608  4.831319e-11  1.504136e-11   \n",
       "358        1.790195            0.490599  6.570089e-11  1.642876e-11   \n",
       "360        1.556780            0.380523  1.325159e-10  2.413475e-11   \n",
       "\n",
       "        cmvd_Mpc   RAdeg_gal  DEdeg_gal  \n",
       "3     422.982362  114.479801 -32.550272  \n",
       "5     377.399142  117.760924 -50.084057  \n",
       "12   1722.784655  128.824926 -44.384373  \n",
       "14   1077.800370  129.151333 -39.866364  \n",
       "17   2186.405655  131.632717 -49.071776  \n",
       "..           ...         ...        ...  \n",
       "347   683.451557   90.529233 -41.906358  \n",
       "349   414.712131  102.902685 -24.789353  \n",
       "356  1175.980669  101.252166 -38.405682  \n",
       "358  1451.554321  107.425531 -26.169645  \n",
       "360   715.436299   95.990984 -52.367566  \n",
       "\n",
       "[144 rows x 13 columns]"
      ]
     },
     "execution_count": 31,
     "metadata": {},
     "output_type": "execute_result"
    }
   ],
   "source": [
    "# Display table\n",
    "work_vhe"
   ]
  },
  {
   "cell_type": "code",
   "execution_count": 32,
   "id": "03bb4ff8",
   "metadata": {},
   "outputs": [],
   "source": [
    "# # work_data = gal_src # simply for bookkeeping in case we want to include sources that do not have z info\n",
    "\n",
    "# vhe_coords_cel = SkyCoord(work_vhe.RAdeg.values*u.deg, work_vhe.DEdeg.values * u.deg, equinox='J2000', frame='fk5')\n",
    "# vhe_coords_gal =  vhe_coords_cel.galactic # book keeping. Source coords in galactic coords\n",
    "# work_vhe['RAdeg_gal'] = vhe_coords_gal.l.deg\n",
    "# work_vhe['DEdeg_gal'] = vhe_coords_gal.b.deg\n"
   ]
  },
  {
   "cell_type": "code",
   "execution_count": 33,
   "id": "fbe6df75",
   "metadata": {},
   "outputs": [],
   "source": [
    "# Generate Skycoord Objects\n",
    "# Skycoords of GRS in celestial\n",
    "# Turns outs the fermi data is in equatorial frame\n",
    "vhe_coords_cel = SkyCoord(work_vhe.RAdeg.values*u.deg, work_vhe.DEdeg.values * u.deg, \n",
    "                          equinox='J2000', \n",
    "                          frame='fk5')\n",
    "vhe_coords_gal =  vhe_coords_cel.galactic # book keeping. Source coords in galactic coords\n",
    "\n",
    "void_coords_gal = void_coords_cel.galactic # Moore bookkeeping. Skycoord of voids in galactic\n",
    "\n",
    "seps = vhe_coords_cel.separation(vhe_coords_cel) # This returns the expected 0 seperation\n",
    "Counter(vhe_coords_cel.separation(vhe_coords_cel)); # Confirming they are all 0 and array length matches source array\n"
   ]
  },
  {
   "cell_type": "code",
   "execution_count": 34,
   "id": "e7b57323",
   "metadata": {},
   "outputs": [],
   "source": [
    "# Apply galactic mask\n",
    "# # Find fermi data with |b| < 10\n",
    "MASK_deg = 10 # Degrees. global constant\n",
    "masked = True\n",
    "if masked:\n",
    "    mask_fermi = abs(vhe_coords_gal.b.value) <= MASK_deg\n",
    "\n",
    "    # Keep the sources with |b| > 10\n",
    "    vhe_coords_gal = vhe_coords_gal[~mask_fermi] # Drops 20 sources\n",
    "    vhe_coords_cel = vhe_coords_gal.fk5 # Bookkeping. Go back to Celestial coordinates"
   ]
  },
  {
   "cell_type": "markdown",
   "id": "35d1e17b",
   "metadata": {},
   "source": [
    "### Plot Gamma-Ray Sources and Voids"
   ]
  },
  {
   "cell_type": "code",
   "execution_count": 35,
   "id": "95893959",
   "metadata": {},
   "outputs": [
    {
     "name": "stderr",
     "output_type": "stream",
     "text": [
      "/var/folders/pj/_3cv5_xd2sz143_b3_wm1xk40000gn/T/ipykernel_64220/406186901.py:39: MatplotlibDeprecationWarning: The legendHandles attribute was deprecated in Matplotlib 3.7 and will be removed two minor releases later. Use legend_handles instead.\n",
      "  legend.legendHandles[0]._sizes = [30]  # Adjust the marker size for the Cosmic Voids label\n"
     ]
    },
    {
     "data": {
      "image/png": "[encoded data removed]",
      "text/plain": [
       "<Figure size 640x480 with 2 Axes>"
      ]
     },
     "metadata": {},
     "output_type": "display_data"
    }
   ],
   "source": [
    "\n",
    "# Plot Sources in galactic frame\n",
    "ax = plt.axes(projection=\"geo aitoff\")\n",
    "ax.grid()\n",
    "\n",
    "r_ang = voids[:]['r_ang_deg']\n",
    "z_values = voids['z']\n",
    "norm = Normalize(vmin=min(z_values), vmax=max(z_values))\n",
    "\n",
    "colormap = 'viridis' \n",
    "\n",
    "# Plot the cosmic voids with proper color mapping\n",
    "scatter = ax.scatter(void_coords_cel.spherical.lon.deg, void_coords_cel.spherical.lat.deg,\n",
    "                     transform=ax.get_transform('world'),\n",
    "                     s=math.pi*r_ang**2,\n",
    "                     marker='o',\n",
    "                     label='Cosmic Voids',\n",
    "                     c=voids['z'],  # Use the redshift values directly\n",
    "                     cmap=colormap,  # Set the colormap\n",
    "                     alpha=0.2)\n",
    "\n",
    "# Set color limits to match data range\n",
    "vmin = min(voids['z'])\n",
    "vmax = max(voids['z'])\n",
    "scatter.set_clim(vmin, vmax)\n",
    "ax.scatter(vhe_coords_cel.spherical.lon.deg, vhe_coords_cel.spherical.lat.deg,\n",
    "           transform=ax.get_transform('world'),\n",
    "           marker=\"o\",\n",
    "           facecolor='red',\n",
    "           s =5,\n",
    "           label='Gamma-ray Sources'\n",
    "          )\n",
    "\n",
    "\n",
    "# Add a color bar using the scatter plot as the mappable\n",
    "colorbar = plt.colorbar(scatter, ax=ax, label='Redshift (z)')\n",
    "colorbar.ax.tick_params(labelsize=12)  # Adjust font size of color bar labels\n",
    "colorbar.outline.set_linewidth(1.5)     # Set color bar outline linewidth\n",
    "legend = plt.legend(loc=\"lower left\", bbox_to_anchor=(0.0, -0.3), bbox_transform=ax.transAxes)\n",
    "legend.legendHandles[0]._sizes = [30]  # Adjust the marker size for the Cosmic Voids label\n",
    "\n",
    "plt.subplots_adjust(bottom=0.15, right=0.8)  # Increase the bottom and right margins\n",
    "\n",
    "plt.title(f\"Voids and Gamma-Ray Sources (Filtered)\")\n",
    "plt.tight_layout(pad=1)\n",
    "\n",
    "\n",
    "\n",
    "plt.show()"
   ]
  },
  {
   "cell_type": "markdown",
   "id": "8e100071",
   "metadata": {},
   "source": [
    "# Voidiness Calculation"
   ]
  },
  {
   "cell_type": "code",
   "execution_count": 36,
   "id": "018f84ac",
   "metadata": {},
   "outputs": [],
   "source": [
    "# Similarly, saving the original void index to ensure indexing method is working\n",
    "# as intended\n",
    "voids.insert(0, 'OG_idx', voids.index )"
   ]
  },
  {
   "cell_type": "code",
   "execution_count": 37,
   "id": "1c75c094",
   "metadata": {},
   "outputs": [],
   "source": [
    "def w1(a, b):\n",
    "    \"\"\"Projecton of a onto b\"\"\"\n",
    "    return (np.dot(a, b)/ mag(b)**2) * b\n",
    "\n",
    "\n"
   ]
  },
  {
   "cell_type": "code",
   "execution_count": 38,
   "id": "eb0e93cf",
   "metadata": {},
   "outputs": [
    {
     "data": {
      "text/html": [
       "<div>\n",
       "<style scoped>\n",
       "    .dataframe tbody tr th:only-of-type {\n",
       "        vertical-align: middle;\n",
       "    }\n",
       "\n",
       "    .dataframe tbody tr th {\n",
       "        vertical-align: top;\n",
       "    }\n",
       "\n",
       "    .dataframe thead th {\n",
       "        text-align: right;\n",
       "    }\n",
       "</style>\n",
       "<table border=\"1\" class=\"dataframe\">\n",
       "  <thead>\n",
       "    <tr style=\"text-align: right;\">\n",
       "      <th></th>\n",
       "      <th>OG_idx</th>\n",
       "      <th>ID</th>\n",
       "      <th>RAdeg</th>\n",
       "      <th>DEdeg</th>\n",
       "      <th>z</th>\n",
       "      <th>Reff</th>\n",
       "      <th>DR</th>\n",
       "      <th>label</th>\n",
       "      <th>cmvd_Mpc</th>\n",
       "      <th>Reff_Mpc</th>\n",
       "      <th>r_ang_deg</th>\n",
       "    </tr>\n",
       "  </thead>\n",
       "  <tbody>\n",
       "    <tr>\n",
       "      <th>0</th>\n",
       "      <td>0</td>\n",
       "      <td>60</td>\n",
       "      <td>114.782</td>\n",
       "      <td>37.641</td>\n",
       "      <td>0.64800</td>\n",
       "      <td>32.298</td>\n",
       "      <td>12</td>\n",
       "      <td>Mao</td>\n",
       "      <td>2389.186928</td>\n",
       "      <td>46.338594</td>\n",
       "      <td>1.111120</td>\n",
       "    </tr>\n",
       "    <tr>\n",
       "      <th>1</th>\n",
       "      <td>1</td>\n",
       "      <td>10020</td>\n",
       "      <td>184.261</td>\n",
       "      <td>1.326</td>\n",
       "      <td>0.50000</td>\n",
       "      <td>15.964</td>\n",
       "      <td>12</td>\n",
       "      <td>Mao</td>\n",
       "      <td>1916.069417</td>\n",
       "      <td>22.903874</td>\n",
       "      <td>0.684857</td>\n",
       "    </tr>\n",
       "    <tr>\n",
       "      <th>2</th>\n",
       "      <td>2</td>\n",
       "      <td>11496</td>\n",
       "      <td>124.855</td>\n",
       "      <td>3.090</td>\n",
       "      <td>0.64800</td>\n",
       "      <td>52.473</td>\n",
       "      <td>12</td>\n",
       "      <td>Mao</td>\n",
       "      <td>2389.186928</td>\n",
       "      <td>75.284075</td>\n",
       "      <td>1.804812</td>\n",
       "    </tr>\n",
       "    <tr>\n",
       "      <th>3</th>\n",
       "      <td>3</td>\n",
       "      <td>15935</td>\n",
       "      <td>230.976</td>\n",
       "      <td>13.239</td>\n",
       "      <td>0.45900</td>\n",
       "      <td>38.683</td>\n",
       "      <td>12</td>\n",
       "      <td>Mao</td>\n",
       "      <td>1777.677557</td>\n",
       "      <td>55.499283</td>\n",
       "      <td>1.788200</td>\n",
       "    </tr>\n",
       "    <tr>\n",
       "      <th>4</th>\n",
       "      <td>4</td>\n",
       "      <td>4407</td>\n",
       "      <td>237.406</td>\n",
       "      <td>16.985</td>\n",
       "      <td>0.46300</td>\n",
       "      <td>63.467</td>\n",
       "      <td>12</td>\n",
       "      <td>Mao</td>\n",
       "      <td>1791.322692</td>\n",
       "      <td>91.057389</td>\n",
       "      <td>2.909982</td>\n",
       "    </tr>\n",
       "    <tr>\n",
       "      <th>...</th>\n",
       "      <td>...</td>\n",
       "      <td>...</td>\n",
       "      <td>...</td>\n",
       "      <td>...</td>\n",
       "      <td>...</td>\n",
       "      <td>...</td>\n",
       "      <td>...</td>\n",
       "      <td>...</td>\n",
       "      <td>...</td>\n",
       "      <td>...</td>\n",
       "      <td>...</td>\n",
       "    </tr>\n",
       "    <tr>\n",
       "      <th>6366</th>\n",
       "      <td>6366</td>\n",
       "      <td>81748</td>\n",
       "      <td>200.350</td>\n",
       "      <td>23.440</td>\n",
       "      <td>0.63004</td>\n",
       "      <td>41.540</td>\n",
       "      <td>10</td>\n",
       "      <td>cmass3</td>\n",
       "      <td>2333.924432</td>\n",
       "      <td>59.598278</td>\n",
       "      <td>1.462767</td>\n",
       "    </tr>\n",
       "    <tr>\n",
       "      <th>6367</th>\n",
       "      <td>6367</td>\n",
       "      <td>60588</td>\n",
       "      <td>162.750</td>\n",
       "      <td>12.590</td>\n",
       "      <td>0.67881</td>\n",
       "      <td>37.440</td>\n",
       "      <td>10</td>\n",
       "      <td>cmass3</td>\n",
       "      <td>2482.646384</td>\n",
       "      <td>53.715925</td>\n",
       "      <td>1.239490</td>\n",
       "    </tr>\n",
       "    <tr>\n",
       "      <th>6368</th>\n",
       "      <td>6368</td>\n",
       "      <td>102343</td>\n",
       "      <td>203.950</td>\n",
       "      <td>8.520</td>\n",
       "      <td>0.66704</td>\n",
       "      <td>37.300</td>\n",
       "      <td>10</td>\n",
       "      <td>cmass3</td>\n",
       "      <td>2447.141939</td>\n",
       "      <td>53.515065</td>\n",
       "      <td>1.252767</td>\n",
       "    </tr>\n",
       "    <tr>\n",
       "      <th>6369</th>\n",
       "      <td>6369</td>\n",
       "      <td>51804</td>\n",
       "      <td>235.030</td>\n",
       "      <td>31.090</td>\n",
       "      <td>0.62018</td>\n",
       "      <td>27.510</td>\n",
       "      <td>10</td>\n",
       "      <td>cmass3</td>\n",
       "      <td>2303.337838</td>\n",
       "      <td>39.469154</td>\n",
       "      <td>0.981703</td>\n",
       "    </tr>\n",
       "    <tr>\n",
       "      <th>6370</th>\n",
       "      <td>6370</td>\n",
       "      <td>31397</td>\n",
       "      <td>144.560</td>\n",
       "      <td>41.450</td>\n",
       "      <td>0.61073</td>\n",
       "      <td>38.830</td>\n",
       "      <td>10</td>\n",
       "      <td>cmass3</td>\n",
       "      <td>2273.857306</td>\n",
       "      <td>55.710187</td>\n",
       "      <td>1.403483</td>\n",
       "    </tr>\n",
       "  </tbody>\n",
       "</table>\n",
       "<p>6371 rows × 11 columns</p>\n",
       "</div>"
      ],
      "text/plain": [
       "      OG_idx      ID    RAdeg   DEdeg        z    Reff  DR   label  \\\n",
       "0          0      60  114.782  37.641  0.64800  32.298  12     Mao   \n",
       "1          1   10020  184.261   1.326  0.50000  15.964  12     Mao   \n",
       "2          2   11496  124.855   3.090  0.64800  52.473  12     Mao   \n",
       "3          3   15935  230.976  13.239  0.45900  38.683  12     Mao   \n",
       "4          4    4407  237.406  16.985  0.46300  63.467  12     Mao   \n",
       "...      ...     ...      ...     ...      ...     ...  ..     ...   \n",
       "6366    6366   81748  200.350  23.440  0.63004  41.540  10  cmass3   \n",
       "6367    6367   60588  162.750  12.590  0.67881  37.440  10  cmass3   \n",
       "6368    6368  102343  203.950   8.520  0.66704  37.300  10  cmass3   \n",
       "6369    6369   51804  235.030  31.090  0.62018  27.510  10  cmass3   \n",
       "6370    6370   31397  144.560  41.450  0.61073  38.830  10  cmass3   \n",
       "\n",
       "         cmvd_Mpc   Reff_Mpc  r_ang_deg  \n",
       "0     2389.186928  46.338594   1.111120  \n",
       "1     1916.069417  22.903874   0.684857  \n",
       "2     2389.186928  75.284075   1.804812  \n",
       "3     1777.677557  55.499283   1.788200  \n",
       "4     1791.322692  91.057389   2.909982  \n",
       "...           ...        ...        ...  \n",
       "6366  2333.924432  59.598278   1.462767  \n",
       "6367  2482.646384  53.715925   1.239490  \n",
       "6368  2447.141939  53.515065   1.252767  \n",
       "6369  2303.337838  39.469154   0.981703  \n",
       "6370  2273.857306  55.710187   1.403483  \n",
       "\n",
       "[6371 rows x 11 columns]"
      ]
     },
     "execution_count": 38,
     "metadata": {},
     "output_type": "execute_result"
    }
   ],
   "source": [
    "voids"
   ]
  },
  {
   "cell_type": "code",
   "execution_count": 39,
   "id": "70a30b97",
   "metadata": {},
   "outputs": [],
   "source": [
    "# One of the first attempts. Keeping it for posterity\n",
    "vhes ={}\n",
    "\n",
    "# ks = []\n",
    "for v_idx in voids.index:\n",
    "    temp_vhe = work_vhe.copy() # Save a fresh copy of work vhe\n",
    "\n",
    "    # Grab void data\n",
    "    void_ra, void_de, = voids.loc[v_idx,['RAdeg', 'DEdeg']]\n",
    "    r_ang_deg, z, v_cmvd, v_r_mpc = voids.loc[v_idx,['r_ang_deg', 'z', 'cmvd_Mpc', 'Reff_Mpc']]\n",
    "\n",
    "    temp_void_coord = SkyCoord(void_ra * u.deg, void_de *u.deg)\n",
    "    vhe_coords =  SkyCoord(temp_vhe.RAdeg.values * u.deg, temp_vhe.DEdeg.values * u.deg)\n",
    "\n",
    "    dist = temp_void_coord.separation(vhe_coords).deg\n",
    "\n",
    "    radius_mask = dist  < r_ang_deg\n",
    "\n",
    "    # If any grs are within radius of void\n",
    "    if any(radius_mask):\n",
    "        # Get indices of sources\n",
    "        s_idx  = temp_vhe.index[radius_mask]\n",
    "    else:\n",
    "        continue # No grs within this void\n",
    "\n",
    "    # Filter by having them be completly behind void\n",
    "    behind_mask = temp_vhe.loc[s_idx, 'cmvd_Mpc'] > (v_cmvd  + 2 * v_r_mpc)\n",
    "\n",
    "    if any(behind_mask):\n",
    "        s_idx = behind_mask.index[behind_mask]\n",
    "    else:\n",
    "        continue\n",
    "\n",
    "\n",
    "    for grs_idx in s_idx:\n",
    "        ra, de, s_cmvd = temp_vhe.loc[grs_idx, ['RAdeg', 'DEdeg', 'cmvd_Mpc']]\n",
    "        singular_vhe_skycoord = SkyCoord(ra * u.deg, de*u.deg)\n",
    "\n",
    "        s_v_dist = temp_void_coord.separation(singular_vhe_skycoord)\n",
    "\n",
    "        ## Just testing index matches og index. it looks like we're safe. \n",
    "        # print(temp_vhe.loc[grs_idx, 'OG_idx'], grs_idx)\n",
    "        if grs_idx != temp_vhe.loc[grs_idx, 'OG_idx']:\n",
    "            print(\"uh oh \")\n",
    "            print(grs_idx, temp_vhe.loc[grs_idx, 'OG_idx'])\n",
    "\n",
    "        void_int, Cv_i = calulate_voidy_int(void_ra, void_de, v_cmvd, v_r_mpc,\n",
    "                                      ra, de, s_cmvd,\n",
    "                                      s_v_dist)\n",
    "        # print(void_int)\n",
    "        data = vhes.setdefault(grs_idx, {\n",
    "                                    'void_idx': [],\n",
    "                                    'Cv': [],\n",
    "                                    'intervals': [],\n",
    "                                    'OG_idx': []\n",
    "                                    # 'idx_match': []\n",
    "                                })    \n",
    "                \n",
    "        og_idx = work_vhe.loc[grs_idx, 'OG_idx']\n",
    "        data['void_idx'].append(v_idx)\n",
    "        data['Cv'].append(Cv_i)\n",
    "        data['intervals'].append(void_int)\n",
    "        data['OG_idx'].append(og_idx)\n",
    "\n"
   ]
  },
  {
   "cell_type": "markdown",
   "id": "99badb02",
   "metadata": {},
   "source": [
    "#### CURRENT METHOD"
   ]
  },
  {
   "cell_type": "markdown",
   "id": "e3e652be",
   "metadata": {},
   "source": [
    "#### Find overlapping voids"
   ]
  },
  {
   "cell_type": "code",
   "execution_count": 49,
   "id": "e312e228",
   "metadata": {},
   "outputs": [],
   "source": [
    "# Depacrated. This will probably wont be needed anymore. Will delete soon\n",
    "# Create new row to store the GRS's incident void id's\n",
    "# work_vhe['Assoc_V_IDs'] = np.nan\n",
    "# work_vhe['Assoc_V_IDs'] =  work_vhe['Assoc_V_IDs'].astype('object') # Cast column to save objects\n",
    "# for key, _ in vhes.items():\n",
    "#     cv_voids = vhes[key]\n",
    "#     v_idx = cv_voids['void_idx']\n",
    "#     v_ids = list(voids.loc[v_idx, 'ID'].values)\n",
    "#     work_vhe.at[int(key), 'Assoc_V_IDs'] = v_ids"
   ]
  },
  {
   "cell_type": "code",
   "execution_count": 50,
   "id": "88ce88db",
   "metadata": {},
   "outputs": [],
   "source": [
    "# Output excel of GRS with the incident voids\n",
    "filepath = './outputTables/Source_void_coincidences_Table.xlsx'  # Add the .xlsx extension\n",
    "\n",
    "# Create an Excel writer object\n",
    "# excel_writer = pd.ExcelWriter(filepath, engine='xlsxwriter')\n",
    "work_vhe.to_excel(excel_writer=filepath)"
   ]
  },
  {
   "cell_type": "code",
   "execution_count": 51,
   "id": "d261fbde",
   "metadata": {},
   "outputs": [],
   "source": [
    "overlap_v = {}\n",
    "for key, dct in vhes.items():\n",
    "    void_idx = dct['void_idx']\n",
    "    combos = list(combinations(void_idx, 2))\n",
    "    for combo in combos:\n",
    "        v1_idx = combo[0]\n",
    "        v2_idx = combo[1]\n",
    "        r1 = voids.loc[v1_idx]['Reff_Mpc']\n",
    "        r2 = voids.loc[v2_idx]['Reff_Mpc']\n",
    "\n",
    "        vec1 = get_void_vec(v1_idx, voids)\n",
    "        vec2 = get_void_vec(v2_idx, voids)\n",
    "        d = vec1 - vec2\n",
    "        if mag(d) < (r1 + r2):\n",
    "        # if True:\n",
    "            # print(mag(d), r1 + r2)\n",
    "            overlap_v.setdefault('v_idx', []).append(combo)\n",
    "\n",
    "\n",
    "        "
   ]
  },
  {
   "cell_type": "code",
   "execution_count": 55,
   "id": "78993a67",
   "metadata": {},
   "outputs": [
    {
     "data": {
      "text/plain": [
       "dict_keys([204, 238, 245, 159, 271, 216, 137, 28, 17, 232, 118, 147, 149, 268, 264, 207, 131, 138, 146, 166, 142, 112, 247, 182, 135, 150, 160, 220, 227, 265, 192, 144, 113, 140, 246, 123, 213, 236, 244, 172, 235, 335, 346, 356, 12, 328, 25, 18, 334, 130, 256, 210, 141, 148, 151, 155, 157, 158, 161, 163, 169, 171, 175, 176, 185, 189, 190, 191, 196, 200, 243, 248, 255, 121, 250, 195, 198, 206, 208, 223, 225, 229, 230, 237, 111, 120, 122, 266, 221, 254, 179, 199, 109, 186, 154, 110, 129, 242, 124, 184, 187, 105, 114, 174, 240, 260, 106, 231, 234, 267, 101, 133, 233, 263, 274, 117])"
      ]
     },
     "execution_count": 55,
     "metadata": {},
     "output_type": "execute_result"
    }
   ],
   "source": [
    "vhes.keys()"
   ]
  },
  {
   "cell_type": "code",
   "execution_count": 56,
   "id": "c08577ac",
   "metadata": {},
   "outputs": [],
   "source": [
    "# TODO: Instead of saving into a seperate dictionary just save it as an additional\n",
    "# entry in vhes dictionary\n",
    "voidiness = {}\n",
    "TEV_voidiness = {}\n",
    "over1_idx= []\n",
    "src_keys = list(vhes.keys())\n",
    "TEV_src_idx = []\n",
    "flags = [\"b'P'\",\"b'E'\"]\n",
    "\n",
    "for idx in list(work_vhe.index):\n",
    "    # print(type(idx))\n",
    "    if idx in src_keys:\n",
    "        # total_d = work_vhe.loc[int(idx)]['cmvd_Mpc']\n",
    "        # Cvs = vhes[idx]['Cv']\n",
    "        # # if len(Cvs) > 2:\n",
    "        # #     print(Cvs,'\\n')\n",
    "        # voidiness_i = sum(Cvs)/total_d\n",
    "\n",
    "        # Interval based voidiness calculation\n",
    "        ints = vhes[idx]['intervals']\n",
    "        union = take_union(ints)\n",
    "        voidiness_i = calc_voidiness(union)  \n",
    "\n",
    "    else:\n",
    "        voidiness_i = 0\n",
    "    # break\n",
    "    voidiness[idx] = voidiness_i\n",
    "    \n",
    "    if str(work_vhe.loc[idx, 'TEVCAT_FLAG']) in flags:\n",
    "        TEV_voidiness[idx] = voidiness_i\n",
    "\n"
   ]
  },
  {
   "cell_type": "markdown",
   "id": "c2b7c0a4",
   "metadata": {},
   "source": [
    "### Voidiness Histogram"
   ]
  },
  {
   "cell_type": "code",
   "execution_count": 59,
   "id": "e7970be7",
   "metadata": {},
   "outputs": [
    {
     "data": {
      "image/png": "[encoded data removed]",
      "text/plain": [
       "<Figure size 640x480 with 1 Axes>"
      ]
     },
     "metadata": {},
     "output_type": "display_data"
    }
   ],
   "source": [
    "l_all = len(voidiness)\n",
    "l_TEV = len(TEV_voidiness)\n",
    "\n",
    "voidiness_list = [item for _, item in voidiness.items()]\n",
    "TEV_voidiness_list = [item for _, item in TEV_voidiness.items()]\n",
    "# print(max(voidiness_list))\n",
    "plot_hist_watermark([voidiness_list, TEV_voidiness_list], bins=15,\n",
    "          xlabel='Voidiness',\n",
    "          ylabel='Normalized Fraction',\n",
    "          title='Voidiness Histogram',\n",
    "          watermark_text='Preliminary',\n",
    "          label=[f'All Sources ({l_all})', f'TEV Sources ({l_TEV})'],\n",
    "          density=True)\n",
    "# ax.text(0.5, 0.5, 'created with matplotlib', transform=ax.transAxes,\n",
    "#         fontsize=40, color='gray', alpha=0.5,\n",
    "        # ha='center', va='center', rotation=30)"
   ]
  },
  {
   "cell_type": "markdown",
   "id": "a89946e2",
   "metadata": {},
   "source": [
    "### Voidiness Line Plots"
   ]
  },
  {
   "cell_type": "code",
   "execution_count": null,
   "id": "c42ec6e8",
   "metadata": {},
   "outputs": [],
   "source": [
    "# Testing logic to splice up Large list into smaller list and handling the \n",
    "# remaining elements\n",
    "sub_len = 10\n",
    "l = range(0,101)\n",
    "n_full_rows = len(l)//sub_len\n",
    "rem = len(l)%sub_len\n",
    "\n",
    "new_l = []\n",
    "for i in range(n_full_rows):\n",
    "    new_l.append(l[0+sub_len*i:sub_len*(i+1)])\n",
    "\n",
    "if rem:\n",
    "    new_l.append(l[-rem:])\n",
    "  "
   ]
  },
  {
   "cell_type": "code",
   "execution_count": null,
   "id": "2545856c",
   "metadata": {},
   "outputs": [],
   "source": [
    "# Declaring some initial variables\n",
    "num_r = 7 # Number of rows per subplot\n",
    "width = 8 # 8 in. \n",
    "dr = \"./output_plots/Voidiness_line_plots/\" # Directory to save plots\n",
    "\n",
    "# Chop up large list of GRS indices into sublists~~~~~~~~~~~~~~~~~~~~~~~~~~~~~~~\n",
    "n_full_rows  = len(src_keys)//num_r # Number of full rows without empty gaps\n",
    "rem = len(src_keys)%num_r # Remainder \n",
    "\n",
    "chopped_keys = []\n",
    "for i in range(n_full_rows):\n",
    "    # Grab i'th group of num_r src keys\n",
    "    chopped_keys.append(src_keys[0+num_r*i:num_r*(i+1)])\n",
    "\n",
    "if rem:\n",
    "    chopped_keys.append(src_keys[-rem:])\n",
    "#~~~~~~~~~~~~~~~~~~~~~~~~~~~~~~~~~~~~~~~~~~~~~~~~~~~~~~~~~~~~~~~~~~~~~~~~~~~~~~~\n",
    "\n",
    "\n",
    "# Batch count number and save plots\n",
    "batch_no = 1\n",
    "total_batches = len(chopped_keys)\n",
    "for sub_list in chopped_keys:\n",
    "    sub_len = len(sub_list)\n",
    "\n",
    "    fig, axs = plt.subplots(nrows=sub_len, figsize=(width, sub_len*1.5))\n",
    "\n",
    "    for grs, ax in zip(sub_list, axs.flat):\n",
    "        \n",
    "\n",
    "        voidiness_i = voidiness[grs] # Voidiness percent\n",
    "\n",
    "        cmvd_i = work_vhe.loc[grs, 'cmvd_Mpc'] # Comoving distance to GRS\n",
    "        z_i = work_vhe.loc[grs, 'z']\n",
    "\n",
    "        v_id = vhes[grs]['void_idx'] # Incident void Ids with current GRS\n",
    "\n",
    "        # Create ranges of voidiness to show on plot~~~~~~~~~~~~~~~~~~~~~~~~~~~~\n",
    "        v_cmvd_mpc = voids.loc[v_id, 'cmvd_Mpc'].values\n",
    "        v_r_mpc = voids.loc[v_id, 'Reff_Mpc'].values\n",
    "\n",
    "        v_r_mpc *= (4/3) /2\n",
    "\n",
    "        void_ranges = []\n",
    "        for o, r in zip(v_cmvd_mpc, v_r_mpc):\n",
    "            void_ranges.append((o-r, o+r))\n",
    "\n",
    "\n",
    "        #~~~~~~~~~~~~~~~~~~~~~~~~~~~~~~~~~~~~~~~~~~~~~~~~~~~~~~~~~~~~~~~~~~~~~~~\n",
    "\n",
    "        ax.plot([0,cmvd_i],[1,1])\n",
    "        ax.set_ylabel(grs, rotation=0, labelpad=20)\n",
    "        ax.set_yticks([])\n",
    "        # ax.set_xlabel(\"Comoving Distance [Mpc]\")\n",
    "        ax.legend([f\"Voidiness: {voidiness_i*100:.0f}% \\n Redshift:{z_i:.2f}\"], loc=\"upper right\")\n",
    "\n",
    "        # Color in voidy regions\n",
    "        for start, end in void_ranges:\n",
    "            ax.axvspan(start, end, color='red', alpha=0.25)\n",
    "\n",
    "    # plt.title(f\"Voidiness for{sub_list}\")\n",
    "    plt.xlabel(f\"Comving Distance[Mpc]\\n Voidiness for {sub_list}\")\n",
    "\n",
    "    plt.subplots_adjust(hspace=0.5)\n",
    "    \n",
    " \n",
    "    plt.savefig(dr + f\"Batch_no_{batch_no}_of_{total_batches}.jpg\")\n",
    "    batch_no += 1\n",
    "\n",
    "\n",
    "# TODO: Put TEV Flag\n"
   ]
  },
  {
   "cell_type": "code",
   "execution_count": null,
   "id": "32f10f79",
   "metadata": {},
   "outputs": [],
   "source": [
    "dr + f\"Batch_no_{batch_no}_of_{total_batches}.jpg\"\n"
   ]
  },
  {
   "cell_type": "code",
   "execution_count": null,
   "id": "df20fb14",
   "metadata": {},
   "outputs": [],
   "source": [
    "intersting_voids = [142, 268, 112, 176, 198, 199, 138]\n",
    "work_vhe.loc[intersting_voids]"
   ]
  },
  {
   "cell_type": "code",
   "execution_count": null,
   "id": "4cbee96f",
   "metadata": {},
   "outputs": [],
   "source": [
    "plt.rcdefaults()"
   ]
  },
  {
   "cell_type": "code",
   "execution_count": null,
   "id": "2d1c1bda",
   "metadata": {},
   "outputs": [],
   "source": [
    "voids.loc[pls,'cmvd_Mpc'].values"
   ]
  },
  {
   "cell_type": "code",
   "execution_count": null,
   "id": "4480dc07",
   "metadata": {},
   "outputs": [],
   "source": [
    "voids"
   ]
  },
  {
   "cell_type": "code",
   "execution_count": null,
   "id": "3bd8535f",
   "metadata": {},
   "outputs": [],
   "source": [
    "fig, ax = plt.subplots(nrows=10, figsize=(8,14))\n",
    "ax[0].set_ylabel(\"ewe\")"
   ]
  },
  {
   "cell_type": "markdown",
   "id": "b7ae1b80",
   "metadata": {},
   "source": [
    "# Statistical Analysis"
   ]
  },
  {
   "cell_type": "markdown",
   "id": "00c44d81",
   "metadata": {},
   "source": [
    "### Distance Histograms"
   ]
  },
  {
   "cell_type": "markdown",
   "id": "563b11c3",
   "metadata": {},
   "source": [
    "#### Prelim Histograms for Debugging"
   ]
  },
  {
   "cell_type": "code",
   "execution_count": null,
   "id": "dcac7be4",
   "metadata": {},
   "outputs": [],
   "source": [
    "# Defining some Useful base plotting parameters\n",
    "xlabel = 'Distance Deg'\n",
    "ylabel = 'Count'\n",
    "base_title = 'Distances.'"
   ]
  },
  {
   "cell_type": "markdown",
   "id": "2b25fd83",
   "metadata": {},
   "source": [
    "##### Fermi Data"
   ]
  },
  {
   "cell_type": "code",
   "execution_count": null,
   "id": "8b396b23",
   "metadata": {},
   "outputs": [],
   "source": [
    "vhe_seps = dist_w_skycoord(vhe_coords_gal) \n",
    "# verify_combo_count(vhe_seps, n=len(vhe_coords_gal)) # If its quiet we are good. "
   ]
  },
  {
   "cell_type": "markdown",
   "id": "44c557d5",
   "metadata": {},
   "source": [
    "##### Random Data"
   ]
  },
  {
   "cell_type": "code",
   "execution_count": null,
   "id": "56f756a3",
   "metadata": {},
   "outputs": [],
   "source": [
    "if masked:\n",
    "    mask = MASK_deg # apply 10 degree mask\n",
    "else:\n",
    "    mask = 0 # no mask\n",
    "rand_coords_gal = generate_rand_Coords_static(len(vhe_coords_cel), mask = mask, seeded=False)\n",
    "rand_coords_cel = rand_coords_gal.fk5 # book keeping"
   ]
  },
  {
   "cell_type": "code",
   "execution_count": null,
   "id": "4a95936b",
   "metadata": {},
   "outputs": [],
   "source": [
    "rand_seps = dist_w_skycoord(rand_coords_gal)"
   ]
  },
  {
   "cell_type": "code",
   "execution_count": null,
   "id": "1afaa88e",
   "metadata": {},
   "outputs": [],
   "source": [
    "labels = [\"FERMI\", \"Random Data\"]"
   ]
  },
  {
   "cell_type": "code",
   "execution_count": null,
   "id": "5c00a971",
   "metadata": {},
   "outputs": [],
   "source": [
    "plot_hist([vhe_seps, rand_seps],\n",
    "          label=labels,\n",
    "          xlabel = xlabel,\n",
    "          ylabel = 'Percent',\n",
    "          title = base_title + f' Masked: {masked}',\n",
    "        #   bins = 3,\n",
    "        # histtype='bar',\n",
    "        # stacked=True,\n",
    "          )"
   ]
  },
  {
   "cell_type": "code",
   "execution_count": null,
   "id": "01a1b431",
   "metadata": {},
   "outputs": [],
   "source": [
    "plot_hist([vhe_coords_gal.l.value, rand_coords_gal.l.value],\n",
    "          label=labels,\n",
    "          title = f'Galactic Longitude (l) Distribution. Masked: {masked}',\n",
    "          xlabel = 'Angle Deg',\n",
    "          ylabel = 'Percent',\n",
    "          bins=75)\n",
    "plot_hist([vhe_coords_gal.b.value, rand_coords_gal.b.value],\n",
    "          label = labels,\n",
    "          title = f'Galactic Latitude (b) Distribution. Masked: {masked}',\n",
    "          xlabel = 'Angle Deg',\n",
    "          ylabel = 'Percent',\n",
    "          bins=75)"
   ]
  },
  {
   "cell_type": "code",
   "execution_count": null,
   "id": "e8c0df87",
   "metadata": {},
   "outputs": [],
   "source": [
    "# generate_rand_l_and_b(1000) # quickly testing they are independen distributions"
   ]
  },
  {
   "cell_type": "code",
   "execution_count": null,
   "id": "7b917bc3",
   "metadata": {},
   "outputs": [],
   "source": [
    "# Fermi and Random plot in Celestial\n",
    "ax = plt.axes(projection=\"geo aitoff\")\n",
    "ax.grid()\n",
    "rand_coords_cel\n",
    "ax.scatter(rand_coords_cel.ra.deg, rand_coords_cel.dec.deg,\n",
    "           transform=ax.get_transform('world'),\n",
    "           s=1,\n",
    "           marker='o',\n",
    "           label='Random Points',\n",
    "        )\n",
    "ax.scatter(vhe_coords_cel.ra.deg, vhe_coords_cel.dec.deg,\n",
    "           transform=ax.get_transform('world'),\n",
    "           s=1,\n",
    "           marker='o',\n",
    "           label='Fermi Data',\n",
    "        )\n",
    "plt.legend(loc=\"lower right\")\n",
    "plt.title(f\"Coordinate Skymap, Celestial, Mask: {masked}\")"
   ]
  },
  {
   "cell_type": "code",
   "execution_count": null,
   "id": "7201130e",
   "metadata": {},
   "outputs": [],
   "source": [
    "# Fermi and and random plot in galactic\n",
    "ax = plt.axes(projection=\"geo aitoff\")\n",
    "ax.grid()\n",
    "rand_coords_cel\n",
    "ax.scatter(rand_coords_gal.spherical.lon.deg, rand_coords_gal.spherical.lat.deg,\n",
    "           transform=ax.get_transform('world'),\n",
    "           s=1,\n",
    "           marker='o',\n",
    "           label='Random Points',\n",
    "        )\n",
    "ax.scatter(vhe_coords_gal.spherical.lon.deg, vhe_coords_gal.spherical.lat.deg,\n",
    "           transform=ax.get_transform('world'),\n",
    "           s=1,\n",
    "           marker='o',\n",
    "           label='Fermi Data',\n",
    "        #    c=void_table['z'],\n",
    "        #    alpha = 0.4\n",
    "        )\n",
    "plt.legend(loc=\"lower right\")\n",
    "plt.title(f\"Coordinate Skymap, Galactic, Mask: {masked}\")"
   ]
  },
  {
   "cell_type": "code",
   "execution_count": null,
   "id": "02e0f0e4",
   "metadata": {},
   "outputs": [],
   "source": [
    "pls = generate_rand_Coords_static(len(vhe_coords_cel))"
   ]
  },
  {
   "cell_type": "code",
   "execution_count": null,
   "id": "9d861bd2",
   "metadata": {},
   "outputs": [],
   "source": [
    "len(vhe_coords_cel)"
   ]
  },
  {
   "cell_type": "markdown",
   "id": "509b252d",
   "metadata": {},
   "source": [
    "#### Little Bit to figure out average number of coordinates cut out. "
   ]
  },
  {
   "cell_type": "code",
   "execution_count": null,
   "id": "c3515123",
   "metadata": {},
   "outputs": [],
   "source": [
    "# Little bit of code to figure out mean number of coordinates cut out by mask\n",
    "# Then add them to total number of random coordinates generated\n",
    "\n",
    "\n",
    "# if True:\n",
    "#     n = 10000000\n",
    "#     n_coords = np.zeros(n)\n",
    "#     len_vhe = len(vhe_coords)\n",
    "#     with Pool(12) as p:\n",
    "#         n_coords = p.map(len_gen_coords, [len_vhe] * n)\n",
    "\n",
    "#     mean_n_cut = len_vhe - np.mean(n_coords) # 211 from 10,000,000 samplings"
   ]
  },
  {
   "cell_type": "markdown",
   "id": "c6313342",
   "metadata": {},
   "source": [
    "#### Sampling and Analysis"
   ]
  },
  {
   "cell_type": "code",
   "execution_count": null,
   "id": "b297c503",
   "metadata": {},
   "outputs": [],
   "source": [
    "# 1000 samples block takes ~ 5 min\n",
    "n_coords = len(vhe_coords_gal) # number of coordinates to produce\n",
    "n_samples = 10\n",
    "BATCH_COUNT = 1\n",
    "\n",
    "file_name = f'./Random_Data/test_{BATCH_COUNT}.pickle'\n",
    "for i in range(10):\n",
    "    with Pool(12) as p:\n",
    "        rand_seps = p.map(sample_and_measure, [n_coords]*n_samples) # Nested list\n",
    "    \n",
    "    if BATCH_COUNT % 10 ==0: # Multiple of 10\n",
    "        BATCH_COUNT += 1\n",
    "        file_name = f'test_{BATCH_COUNT}.pickle'\n",
    "\n",
    "    # Save rand_seps into a CSV file, overwriting the file each time.\n",
    "    with open(file_name, 'ab') as file:\n",
    "        pickle.dump(rand_seps, file)\n",
    "    "
   ]
  },
  {
   "cell_type": "code",
   "execution_count": null,
   "id": "2612708e",
   "metadata": {},
   "outputs": [],
   "source": [
    "with open(file_name, 'rb') as file:\n",
    "    save_data = pickle.load(file)"
   ]
  },
  {
   "cell_type": "markdown",
   "id": "9fcb7ada",
   "metadata": {},
   "source": [
    "Take mean,for a single bin."
   ]
  },
  {
   "cell_type": "code",
   "execution_count": null,
   "id": "24a20944",
   "metadata": {},
   "outputs": [],
   "source": [
    "flattened_seps = list(chain.from_iterable(rand_seps)) # Chain is faster"
   ]
  },
  {
   "cell_type": "code",
   "execution_count": null,
   "id": "ad437ebf",
   "metadata": {},
   "outputs": [],
   "source": [
    "# df = pd.DataFrame(rand_seps) # 2 mins for a 50 x 544,446 table. maybe pandas is not the way to go. \n",
    "# # if this was a 1000 table. this would take significantly longer."
   ]
  },
  {
   "cell_type": "code",
   "execution_count": null,
   "id": "b1c0c402",
   "metadata": {},
   "outputs": [],
   "source": [
    "n_bins = 180\n",
    "bins = np.linspace(0,180, n_bins + 1)"
   ]
  },
  {
   "cell_type": "code",
   "execution_count": null,
   "id": "14a7141e",
   "metadata": {},
   "outputs": [],
   "source": [
    "# bin_indices = np.digitize(rand_seps, bins) - 1 # To fix 0 indexing\n"
   ]
  },
  {
   "cell_type": "code",
   "execution_count": null,
   "id": "d48c0bcf",
   "metadata": {},
   "outputs": [],
   "source": [
    "# bin_indices"
   ]
  },
  {
   "cell_type": "code",
   "execution_count": null,
   "id": "e8c778dd",
   "metadata": {},
   "outputs": [],
   "source": [
    "# print(bin_indices == 89)"
   ]
  },
  {
   "cell_type": "code",
   "execution_count": null,
   "id": "9c198c67",
   "metadata": {},
   "outputs": [],
   "source": [
    "# test_bi = bin_indices[0]"
   ]
  },
  {
   "cell_type": "code",
   "execution_count": null,
   "id": "deb4a970",
   "metadata": {},
   "outputs": [],
   "source": []
  },
  {
   "cell_type": "code",
   "execution_count": null,
   "id": "dfd79b2c",
   "metadata": {},
   "outputs": [],
   "source": [
    "# pandas has methods for handling large data sets\n",
    "# df = pd.DataFrame({\"Seperations\": flattened_seps, \"Bin\": bin_indices})"
   ]
  },
  {
   "cell_type": "code",
   "execution_count": null,
   "id": "3e7be87e",
   "metadata": {},
   "outputs": [],
   "source": [
    "# bin_statistics = df.groupby('Bin')['Seperations'].agg(['mean', 'std'])"
   ]
  },
  {
   "cell_type": "code",
   "execution_count": null,
   "id": "ac14771f",
   "metadata": {},
   "outputs": [],
   "source": [
    "\n",
    "plot_hist([vhe_seps, flattened_seps],\n",
    "          label=['FERMI', 'Random Data', '1 Sigma'],\n",
    "          xlabel = xlabel,\n",
    "          ylabel = 'Percent',\n",
    "          title = base_title + f' Masked: {masked}',\n",
    "        #   bins = 3,\n",
    "        # histtype='bar',\n",
    "        # stacked=True,\n",
    "          )"
   ]
  }
 ],
 "metadata": {
  "kernelspec": {
   "display_name": "Python 3 (ipykernel)",
   "language": "python",
   "name": "python3"
  },
  "language_info": {
   "codemirror_mode": {
    "name": "ipython",
    "version": 3
   },
   "file_extension": ".py",
   "mimetype": "text/x-python",
   "name": "python",
   "nbconvert_exporter": "python",
   "pygments_lexer": "ipython3",
   "version": "3.9.16"
  }
 },
 "nbformat": 4,
 "nbformat_minor": 5
}
