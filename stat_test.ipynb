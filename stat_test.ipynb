{
 "cells": [
  {
   "cell_type": "code",
   "execution_count": 1,
   "metadata": {},
   "outputs": [],
   "source": [
    "from matplotlib import pyplot as plt\n",
    "import pandas as pd\n",
    "from scipy.interpolate import splrep, BSpline\n",
    "import numpy as np\n",
    "from scipy import stats\n",
    "import random\n",
    "import math\n",
    "from footprint_filter import filter_by_footprint\n",
    "from voidiness import voidy_analysis"
   ]
  },
  {
   "cell_type": "code",
   "execution_count": 2,
   "metadata": {},
   "outputs": [],
   "source": [
    "sdss_dr16 = pd.read_excel('exported_dataFrames/sdss_dr16_w_voidiness.xlsx')\n",
    "four_lac = pd.read_excel('exported_dataFrames/4lac_w_voidiness.xlsx')"
   ]
  },
  {
   "cell_type": "code",
   "execution_count": 3,
   "metadata": {},
   "outputs": [],
   "source": [
    "soft_xrays = pd.read_excel('exported_dataFrames/SBAT104_w_voidiness.xlsx')\n",
    "hard_xrays = pd.read_excel('exported_dataFrames/ROMABZCAT_w_voidiness.xlsx')"
   ]
  },
  {
   "cell_type": "code",
   "execution_count": 4,
   "metadata": {},
   "outputs": [
    {
     "data": {
      "text/plain": [
       "[<matplotlib.lines.Line2D at 0x14e8cc400>]"
      ]
     },
     "execution_count": 4,
     "metadata": {},
     "output_type": "execute_result"
    },
    {
     "data": {
      "image/png": "[encoded data removed]",
      "text/plain": [
       "<Figure size 640x480 with 1 Axes>"
      ]
     },
     "metadata": {},
     "output_type": "display_data"
    }
   ],
   "source": [
    "hist_data = plt.hist([sdss_dr16.Voidiness], \n",
    "                     bins = 40, \n",
    "                     density=True, \n",
    "                     stacked = False,\n",
    "                     histtype='step')\n",
    "\n",
    "bin_heights = hist_data[0]\n",
    "# Calculate the centeres of the bins\n",
    "bin_centers = []\n",
    "for i in range(len(hist_data[1])-1):\n",
    "    bin_centers.append((hist_data[1][i] + hist_data[1][i+1])/2)\n",
    "\n",
    "plt.scatter(bin_centers, hist_data[0], marker='.')\n",
    "\n",
    "# Interpolate between points\n",
    "tck = splrep(bin_centers, bin_heights, s=0)\n",
    "x = np.arange(min(bin_centers), max(bin_centers), 0.01)\n",
    "plt.plot(x, BSpline(*tck)(x), '-', label=f's=0')\n"
   ]
  },
  {
   "cell_type": "code",
   "execution_count": 5,
   "metadata": {},
   "outputs": [
    {
     "data": {
      "text/plain": [
       "KstestResult(statistic=0.11666147193662166, pvalue=0.0002478314729488103, statistic_location=0.3971037644216107, statistic_sign=1)"
      ]
     },
     "execution_count": 5,
     "metadata": {},
     "output_type": "execute_result"
    }
   ],
   "source": [
    "#\n",
    "stats.ks_2samp(sdss_dr16.Voidiness, four_lac.Voidiness, method='exact')"
   ]
  },
  {
   "cell_type": "code",
   "execution_count": 6,
   "metadata": {},
   "outputs": [
    {
     "data": {
      "text/plain": [
       "KstestResult(statistic=0.11244203601854846, pvalue=0.01755757846133372, statistic_location=0.1475855092339369, statistic_sign=-1)"
      ]
     },
     "execution_count": 6,
     "metadata": {},
     "output_type": "execute_result"
    }
   ],
   "source": [
    "stats.ks_2samp(sdss_dr16.Voidiness, soft_xrays.Voidiness)"
   ]
  },
  {
   "cell_type": "code",
   "execution_count": 7,
   "metadata": {},
   "outputs": [
    {
     "data": {
      "text/plain": [
       "KstestResult(statistic=0.06283992308223585, pvalue=0.05791296575557536, statistic_location=0.3831881698679801, statistic_sign=1)"
      ]
     },
     "execution_count": 7,
     "metadata": {},
     "output_type": "execute_result"
    }
   ],
   "source": [
    "stats.ks_2samp(sdss_dr16.Voidiness, hard_xrays.Voidiness)"
   ]
  },
  {
   "cell_type": "code",
   "execution_count": 8,
   "metadata": {},
   "outputs": [
    {
     "data": {
      "text/plain": [
       "KstestResult(statistic=0.20933354901326431, pvalue=0.3011200919614163, statistic_location=0.2802377688239253, statistic_sign=1)"
      ]
     },
     "execution_count": 8,
     "metadata": {},
     "output_type": "execute_result"
    }
   ],
   "source": [
    "stats.ks_2samp(sdss_dr16.Voidiness, four_lac.Voidiness[four_lac.TeVflag == 1], method='exact')"
   ]
  },
  {
   "cell_type": "code",
   "execution_count": 9,
   "metadata": {},
   "outputs": [
    {
     "data": {
      "text/plain": [
       "KstestResult(statistic=0.12224430373896567, pvalue=0.00018639410216948646, statistic_location=0.3971037644216107, statistic_sign=1)"
      ]
     },
     "execution_count": 9,
     "metadata": {},
     "output_type": "execute_result"
    }
   ],
   "source": [
    "stats.ks_2samp(sdss_dr16.Voidiness, four_lac.Voidiness[np.isnan(four_lac.TeVflag)], method='exact')"
   ]
  },
  {
   "cell_type": "code",
   "execution_count": 10,
   "metadata": {},
   "outputs": [],
   "source": [
    "catalogs = [\"Four_LAC\",\"TEV_Sources\", \"NON_TEV_Sources\", \"SDSS_DR16\", \"ROMABZCAT\", \"SBAT104\"]\n",
    "stat_nums = [\"Statistic\", \"pvalue\"]\n",
    "statistics = pd.DataFrame(np.nan, columns=catalogs, index  =catalogs)\n",
    "data = [four_lac.Voidiness,\n",
    "        four_lac.Voidiness[four_lac.TeVflag == 1],\n",
    "        four_lac.Voidiness[np.isnan(four_lac.TeVflag)],\n",
    "        sdss_dr16.Voidiness,\n",
    "        hard_xrays.Voidiness,\n",
    "        soft_xrays.Voidiness]"
   ]
  },
  {
   "cell_type": "code",
   "execution_count": 11,
   "metadata": {},
   "outputs": [],
   "source": [
    "statistics = {}\n",
    "for i in range(len(data)):\n",
    "    temp = {}\n",
    "    for j in range(i, len(data)): \n",
    "        temp[catalogs[j]] = stats.ks_2samp(data[i], data[j])\n",
    "        # print(catalogs[i], catalogs[j], stats.ks_2samp(data[i], data[j]))\n",
    "    statistics[catalogs[i]] = temp"
   ]
  },
  {
   "cell_type": "code",
   "execution_count": 12,
   "metadata": {},
   "outputs": [],
   "source": [
    "stats_table = pd.DataFrame(statistics)"
   ]
  },
  {
   "cell_type": "code",
   "execution_count": 13,
   "metadata": {},
   "outputs": [
    {
     "data": {
      "text/html": [
       "<div>\n",
       "<style scoped>\n",
       "    .dataframe tbody tr th:only-of-type {\n",
       "        vertical-align: middle;\n",
       "    }\n",
       "\n",
       "    .dataframe tbody tr th {\n",
       "        vertical-align: top;\n",
       "    }\n",
       "\n",
       "    .dataframe thead th {\n",
       "        text-align: right;\n",
       "    }\n",
       "</style>\n",
       "<table border=\"1\" class=\"dataframe\">\n",
       "  <thead>\n",
       "    <tr style=\"text-align: right;\">\n",
       "      <th></th>\n",
       "      <th>Four_LAC</th>\n",
       "      <th>TEV_Sources</th>\n",
       "      <th>NON_TEV_Sources</th>\n",
       "      <th>SDSS_DR16</th>\n",
       "      <th>ROMABZCAT</th>\n",
       "      <th>SBAT104</th>\n",
       "    </tr>\n",
       "  </thead>\n",
       "  <tbody>\n",
       "    <tr>\n",
       "      <th>Four_LAC</th>\n",
       "      <td>(0.0, 1.0)</td>\n",
       "      <td>NaN</td>\n",
       "      <td>NaN</td>\n",
       "      <td>NaN</td>\n",
       "      <td>NaN</td>\n",
       "      <td>NaN</td>\n",
       "    </tr>\n",
       "    <tr>\n",
       "      <th>TEV_Sources</th>\n",
       "      <td>(0.15670731707317073, 0.6853632429122397)</td>\n",
       "      <td>(0.0, 1.0)</td>\n",
       "      <td>NaN</td>\n",
       "      <td>NaN</td>\n",
       "      <td>NaN</td>\n",
       "      <td>NaN</td>\n",
       "    </tr>\n",
       "    <tr>\n",
       "      <th>NON_TEV_Sources</th>\n",
       "      <td>(0.010175799809946151, 1.0)</td>\n",
       "      <td>(0.16688311688311688, 0.61235328769397)</td>\n",
       "      <td>(0.0, 1.0)</td>\n",
       "      <td>NaN</td>\n",
       "      <td>NaN</td>\n",
       "      <td>NaN</td>\n",
       "    </tr>\n",
       "    <tr>\n",
       "      <th>SDSS_DR16</th>\n",
       "      <td>(0.11666147193662169, 0.00024682521625024915)</td>\n",
       "      <td>(0.20933354901326434, 0.3010003051020268)</td>\n",
       "      <td>(0.12224430373896567, 0.0001863034328030673)</td>\n",
       "      <td>(0.0, 1.0)</td>\n",
       "      <td>NaN</td>\n",
       "      <td>NaN</td>\n",
       "    </tr>\n",
       "    <tr>\n",
       "      <th>ROMABZCAT</th>\n",
       "      <td>(0.07845985201425049, 0.1827442706926773)</td>\n",
       "      <td>(0.19269662921348316, 0.4224222232442778)</td>\n",
       "      <td>(0.07430322486502262, 0.2510548851662401)</td>\n",
       "      <td>(0.06283992308223585, 0.05791296575557536)</td>\n",
       "      <td>(0.0, 1.0)</td>\n",
       "      <td>NaN</td>\n",
       "    </tr>\n",
       "    <tr>\n",
       "      <th>SBAT104</th>\n",
       "      <td>(0.15853658536585366, 0.004626206199868378)</td>\n",
       "      <td>(0.24456521739130435, 0.1946353740374229)</td>\n",
       "      <td>(0.15422077922077923, 0.007253402335819552)</td>\n",
       "      <td>(0.11244203601854846, 0.01755757846133372)</td>\n",
       "      <td>(0.11595017098192477, 0.054738484496669036)</td>\n",
       "      <td>(0.0, 1.0)</td>\n",
       "    </tr>\n",
       "  </tbody>\n",
       "</table>\n",
       "</div>"
      ],
      "text/plain": [
       "                                                      Four_LAC  \\\n",
       "Four_LAC                                            (0.0, 1.0)   \n",
       "TEV_Sources          (0.15670731707317073, 0.6853632429122397)   \n",
       "NON_TEV_Sources                    (0.010175799809946151, 1.0)   \n",
       "SDSS_DR16        (0.11666147193662169, 0.00024682521625024915)   \n",
       "ROMABZCAT            (0.07845985201425049, 0.1827442706926773)   \n",
       "SBAT104            (0.15853658536585366, 0.004626206199868378)   \n",
       "\n",
       "                                               TEV_Sources  \\\n",
       "Four_LAC                                               NaN   \n",
       "TEV_Sources                                     (0.0, 1.0)   \n",
       "NON_TEV_Sources    (0.16688311688311688, 0.61235328769397)   \n",
       "SDSS_DR16        (0.20933354901326434, 0.3010003051020268)   \n",
       "ROMABZCAT        (0.19269662921348316, 0.4224222232442778)   \n",
       "SBAT104          (0.24456521739130435, 0.1946353740374229)   \n",
       "\n",
       "                                              NON_TEV_Sources  \\\n",
       "Four_LAC                                                  NaN   \n",
       "TEV_Sources                                               NaN   \n",
       "NON_TEV_Sources                                    (0.0, 1.0)   \n",
       "SDSS_DR16        (0.12224430373896567, 0.0001863034328030673)   \n",
       "ROMABZCAT           (0.07430322486502262, 0.2510548851662401)   \n",
       "SBAT104           (0.15422077922077923, 0.007253402335819552)   \n",
       "\n",
       "                                                  SDSS_DR16  \\\n",
       "Four_LAC                                                NaN   \n",
       "TEV_Sources                                             NaN   \n",
       "NON_TEV_Sources                                         NaN   \n",
       "SDSS_DR16                                        (0.0, 1.0)   \n",
       "ROMABZCAT        (0.06283992308223585, 0.05791296575557536)   \n",
       "SBAT104          (0.11244203601854846, 0.01755757846133372)   \n",
       "\n",
       "                                                   ROMABZCAT     SBAT104  \n",
       "Four_LAC                                                 NaN         NaN  \n",
       "TEV_Sources                                              NaN         NaN  \n",
       "NON_TEV_Sources                                          NaN         NaN  \n",
       "SDSS_DR16                                                NaN         NaN  \n",
       "ROMABZCAT                                         (0.0, 1.0)         NaN  \n",
       "SBAT104          (0.11595017098192477, 0.054738484496669036)  (0.0, 1.0)  "
      ]
     },
     "execution_count": 13,
     "metadata": {},
     "output_type": "execute_result"
    }
   ],
   "source": [
    "stats_table"
   ]
  },
  {
   "cell_type": "code",
   "execution_count": 14,
   "metadata": {},
   "outputs": [],
   "source": [
    "# Taken from custom_functions.py and modified for our purposes, \n",
    "# Since I've making new scripts for everything custom_functions is kind of depecrated\n",
    "# and I didn't want to break it. \n",
    "\n",
    "def rand_long_and_lat(n, seeded=False, seed = 567307250717):\n",
    "    \"\"\"\n",
    "    Generates number of longitude and latitude coordinates in degrees for entire pandasDF\n",
    "    \"\"\"\n",
    "    if seeded:\n",
    "        seed = seed # Using seed while debugging\n",
    "    else:\n",
    "        seed = None\n",
    "\n",
    "    rng = np.random.default_rng(seed) \n",
    "    theta = np.arccos(1 - 2 * rng.uniform(0, 1, n)) * (180/math.pi) # COLAT\n",
    "    b = 90 - theta\n",
    "    l = rng.uniform(0, 360, n)\n",
    "    return (l, b)\n",
    "# Randomize\n",
    "\n",
    "def gen_filtered_ra_deg(n):\n",
    "    randRA, randDE = rand_long_and_lat(n)\n",
    "    temp_cel = pd.DataFrame({'RAdeg': randRA, 'DEdeg': randDE})\n",
    "    temp_cel = filter_by_footprint(temp_cel, 'exported_dataFrames/footprint_points_void_centers.xlsx')\n",
    "    return temp_cel"
   ]
  },
  {
   "cell_type": "code",
   "execution_count": 63,
   "metadata": {},
   "outputs": [],
   "source": [
    "# Monte Carlo of TEV\n",
    "voids = pd.read_excel('exported_dataFrames/voids.xlsx')\n",
    "master_TEV_Carlo = four_lac[four_lac.TeVflag == 1].copy()\n",
    "\n",
    "run_n = 0\n",
    "mc_voidiness = np.array([])\n",
    "n_galxy = len(master_TEV_Carlo)\n"
   ]
  },
  {
   "cell_type": "code",
   "execution_count": null,
   "metadata": {},
   "outputs": [],
   "source": [
    "\n",
    "while True:\n",
    "    coords = gen_filtered_ra_deg(100000)\n",
    "    coords_idx = coords.index.tolist()\n",
    "    while len(coords_idx) > n_galxy:\n",
    "        fresh_coords_idx = coords_idx[:n_galxy]\n",
    "        coords_idx = coords_idx[n_galxy:]\n",
    "\n",
    "        master_TEV_Carlo['RAdeg'] = coords.RAdeg[fresh_coords_idx].values\n",
    "        master_TEV_Carlo['DEdeg'] = coords.DEdeg[fresh_coords_idx].values\n",
    "        mc_voidiness = np.append(mc_voidiness, voidy_analysis(voids, master_TEV_Carlo).Voidiness.values)\n",
    "        run_n += 1"
   ]
  },
  {
   "cell_type": "code",
   "execution_count": 57,
   "metadata": {},
   "outputs": [
    {
     "data": {
      "text/plain": [
       "(array([4.24653042, 1.0732989 , 1.21329441, 1.29106969, 1.25995958,\n",
       "        1.44662025, 1.57106071, 1.22884946, 1.39995508, 1.4310652 ,\n",
       "        1.44662025, 1.29106969, 1.25995958, 1.15107418, 0.79330788,\n",
       "        0.38887641, 0.31110113, 0.2488809 , 0.06222023, 0.21777079]),\n",
       " array([0.        , 0.04285852, 0.08571704, 0.12857555, 0.17143407,\n",
       "        0.21429259, 0.25715111, 0.30000963, 0.34286814, 0.38572666,\n",
       "        0.42858518, 0.4714437 , 0.51430221, 0.55716073, 0.60001925,\n",
       "        0.64287777, 0.68573629, 0.7285948 , 0.77145332, 0.81431184,\n",
       "        0.85717036]),\n",
       " [<matplotlib.patches.Polygon at 0x14eaad6a0>])"
      ]
     },
     "execution_count": 57,
     "metadata": {},
     "output_type": "execute_result"
    },
    {
     "data": {
      "image/png": "[encoded data removed]",
      "text/plain": [
       "<Figure size 640x480 with 1 Axes>"
      ]
     },
     "metadata": {},
     "output_type": "display_data"
    }
   ],
   "source": [
    "plt.hist([sdss_dr16.Voidiness], \n",
    "                     bins = 40, \n",
    "                     density=True, \n",
    "                     stacked = False,\n",
    "                     histtype='step')\n",
    "\n",
    "mc_names = [\"Voidiness_\" + str(i) for i in range(run_n-1)]\n",
    "\n",
    "# for name in mc_names:\n",
    "plt.hist([mc_voidiness], \n",
    "                    bins = 20, \n",
    "                    density=True, \n",
    "                    stacked = False,\n",
    "                    histtype='step')"
   ]
  },
  {
   "cell_type": "code",
   "execution_count": 62,
   "metadata": {},
   "outputs": [
    {
     "data": {
      "text/plain": [
       "array([1.        , 2.        , 0.68434381, 0.73119692, 0.38861842,\n",
       "       0.14666994, 0.        , 0.20456421, 0.72622839, 0.22206291,\n",
       "       0.3946882 , 0.61377575, 0.11342801, 0.25090098, 0.        ,\n",
       "       0.40466285, 0.11151582, 0.32909954, 0.        , 0.51883436,\n",
       "       0.15487415, 0.32512918])"
      ]
     },
     "execution_count": 62,
     "metadata": {},
     "output_type": "execute_result"
    }
   ],
   "source": [
    "np.append(np.array([1, 2]),voidy_analysis(voids, master_TEV_Carlo).Voidiness.values)"
   ]
  },
  {
   "cell_type": "code",
   "execution_count": null,
   "metadata": {},
   "outputs": [],
   "source": []
  }
 ],
 "metadata": {
  "kernelspec": {
   "display_name": "astropy-env",
   "language": "python",
   "name": "python3"
  },
  "language_info": {
   "codemirror_mode": {
    "name": "ipython",
    "version": 3
   },
   "file_extension": ".py",
   "mimetype": "text/x-python",
   "name": "python",
   "nbconvert_exporter": "python",
   "pygments_lexer": "ipython3",
   "version": "3.9.19"
  }
 },
 "nbformat": 4,
 "nbformat_minor": 2
}
