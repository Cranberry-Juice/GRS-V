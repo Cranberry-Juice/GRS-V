{
 "cells": [
  {
   "cell_type": "code",
   "execution_count": 1,
   "id": "881dcad0",
   "metadata": {},
   "outputs": [
    {
     "data": {
      "text/plain": [
       "'Purpose: to parse void catalogue and save it as a new text file\\nrelavent to current work.'"
      ]
     },
     "execution_count": 1,
     "metadata": {},
     "output_type": "execute_result"
    }
   ],
   "source": [
    "\"\"\"Purpose: to parse void catalogue and save it as a new text file\n",
    "relavent to current work.\"\"\""
   ]
  },
  {
   "cell_type": "code",
   "execution_count": 2,
   "id": "3037b69f",
   "metadata": {},
   "outputs": [],
   "source": [
    "import pandas as pd\n",
    "import os\n",
    "import re\n"
   ]
  },
  {
   "cell_type": "code",
   "execution_count": 3,
   "id": "fbf60da0",
   "metadata": {},
   "outputs": [],
   "source": [
    "from astropy.table import QTable\n",
    "from astropy.io import fits\n",
    "from astropy import units as u\n"
   ]
  },
  {
   "cell_type": "code",
   "execution_count": 4,
   "id": "91a1e327",
   "metadata": {},
   "outputs": [],
   "source": [
    "# Void catalog file in text format expected to be in current directory\n",
    "FN = \"apjaa508et1_mrt.txt\"\n",
    "\n",
    "n_junkrows = 35 # number of junk rows above data\n",
    "\n",
    "# Column names as they come from the catalog\n",
    "colnames = ['SamplePartA', 'SamplePartB', 'ID', 'RAdeg', 'DEdeg', 'z', 'NGal', 'V', 'Reff', 'nmin', 'delmin', 'r', 'P', 'Dbound']\n",
    "\n",
    "# Columns we want\n",
    "keepCols = ['ID', 'RAdeg', 'DEdeg', 'z', 'Reff']\n"
   ]
  },
  {
   "cell_type": "code",
   "execution_count": 5,
   "id": "ae4bfd13",
   "metadata": {},
   "outputs": [
    {
     "data": {
      "text/plain": [
       "'RAdeg'"
      ]
     },
     "execution_count": 5,
     "metadata": {},
     "output_type": "execute_result"
    }
   ],
   "source": [
    "keepCols[1]"
   ]
  },
  {
   "cell_type": "code",
   "execution_count": 6,
   "id": "486e4c28",
   "metadata": {},
   "outputs": [],
   "source": [
    "data = pd.read_table('apjaa508et1_mrt.txt', skiprows=n_junkrows, header=None, names=colnames,\n",
    "                     delim_whitespace=True, index_col=False)\n",
    "\n",
    "parsed_data = data[keepCols]\n"
   ]
  },
  {
   "cell_type": "code",
   "execution_count": 7,
   "id": "24df5f5b",
   "metadata": {},
   "outputs": [
    {
     "name": "stderr",
     "output_type": "stream",
     "text": [
      "/var/folders/pj/_3cv5_xd2sz143_b3_wm1xk40000gn/T/ipykernel_5044/1011862754.py:1: SettingWithCopyWarning: \n",
      "A value is trying to be set on a copy of a slice from a DataFrame.\n",
      "Try using .loc[row_indexer,col_indexer] = value instead\n",
      "\n",
      "See the caveats in the documentation: https://pandas.pydata.org/pandas-docs/stable/user_guide/indexing.html#returning-a-view-versus-a-copy\n",
      "  parsed_data.loc[:, \"DR\"] = 12 # Keep Track of what DR the data comes from\n",
      "/var/folders/pj/_3cv5_xd2sz143_b3_wm1xk40000gn/T/ipykernel_5044/1011862754.py:2: SettingWithCopyWarning: \n",
      "A value is trying to be set on a copy of a slice from a DataFrame.\n",
      "Try using .loc[row_indexer,col_indexer] = value instead\n",
      "\n",
      "See the caveats in the documentation: https://pandas.pydata.org/pandas-docs/stable/user_guide/indexing.html#returning-a-view-versus-a-copy\n",
      "  parsed_data.loc[:, 'label'] = 'Mao' # Author of the 'other' void catalog\n"
     ]
    }
   ],
   "source": [
    "parsed_data.loc[:, \"DR\"] = 12 # Keep Track of what DR the data comes from\n",
    "parsed_data.loc[:, 'label'] = 'Mao' # Author of the 'other' void catalog"
   ]
  },
  {
   "cell_type": "code",
   "execution_count": null,
   "id": "1d5bd06a",
   "metadata": {},
   "outputs": [],
   "source": [
    "\n"
   ]
  },
  {
   "cell_type": "code",
   "execution_count": 8,
   "id": "3130f59a",
   "metadata": {},
   "outputs": [],
   "source": [
    "main_folder = './SDSS Data Used/'\n",
    "# grab everything in betwen dr[any digit][0 or 1 '0'] and .dat.out\n",
    "pattern = re.compile(r'dr\\d0?(.*?)\\.dat\\.out')\n",
    "colnames = [keepCols[1], keepCols[2], keepCols[3], keepCols[4], keepCols[0]]\n",
    "# 'RAdeg', 'DEdeg', 'z', 'Reff' , 'ID'\n",
    "\n",
    "\n",
    "dfs = {}\n",
    "for root, dirs, files in os.walk(main_folder):\n",
    "    if '.DS_Store' in dirs:\n",
    "        dirs.remove('.DS_Store')\n",
    "    if '.DS_Store' in files:\n",
    "        files.remove('.DS_Store')\n",
    "\n",
    "\n",
    "    for file in files:\n",
    "        match = pattern.search(file)\n",
    "        label = match.group(1) # category name\n",
    "        dir_name = os.path.basename(root)\n",
    "        # print(dir_name)\n",
    "        file_path = os.path.join(root, file)\n",
    "        # print(file)\n",
    "        temp = pd.read_table(file_path, \n",
    "                            delim_whitespace=True, \n",
    "                            header=None,\n",
    "                            skiprows=1,\n",
    "                            names=colnames)\n",
    "        temp['label'] = label\n",
    "        temp['DR'] = int(dir_name)\n",
    "        dfs[label] = temp\n",
    "\n",
    "        \n",
    "        "
   ]
  },
  {
   "cell_type": "code",
   "execution_count": 9,
   "id": "9bc7fddb",
   "metadata": {},
   "outputs": [],
   "source": [
    "temp = [parsed_data]\n",
    "for key in dfs:\n",
    "    void_df = pd.concat(temp)\n",
    "    temp = [void_df, dfs[key]]"
   ]
  },
  {
   "cell_type": "code",
   "execution_count": 10,
   "id": "75b53661",
   "metadata": {},
   "outputs": [],
   "source": [
    "# void_df # public void catalog adds ~ 5,000 voids!"
   ]
  },
  {
   "cell_type": "code",
   "execution_count": 11,
   "id": "1e08de80",
   "metadata": {},
   "outputs": [],
   "source": [
    "void_df.to_csv('void_data.txt') # Save data"
   ]
  },
  {
   "cell_type": "markdown",
   "id": "139ef022",
   "metadata": {},
   "source": [
    "# Graveyard"
   ]
  },
  {
   "cell_type": "code",
   "execution_count": 12,
   "id": "11278621",
   "metadata": {},
   "outputs": [],
   "source": [
    "# # DEFUNCT. NO LONGER USING FITS FILE. i couldnt figure it out :()\n",
    "# # Creat the fits file. \n",
    "# column_names = list(void_df.columns.values)\n",
    "\n",
    "# column_names\n",
    "# voids = void_df.to_numpy()\n",
    "\n",
    "# voids[:,0]\n",
    "\n",
    "# # WARNING\n",
    "# # Reff h unit removed, because units are Mpc/h where h is \"dimensionless hubble constant\"\n",
    "# # voids = [voids[:,0] , voids[:,1]*u.deg, voids[:,2]*u.deg, voids[:,3], voids[:,4]*(u.Mpc/u.h)]\n",
    "# #       ['ID',        'RAdeg',          'DEdeg',          'z',        'Reff']\n",
    "# voids = [voids[:,0] , voids[:,1]*u.deg, voids[:,2]*u.deg, voids[:,3], voids[:,4]*u.Mpc, voids[:,5], voids[:,6]]# There has to be a better way.\n",
    "\n",
    "\n",
    "# voids = QTable(voids, names=column_names)\n",
    "\n",
    "# voids.write('voids.fit', format='fits', overwrite=True)\n",
    "\n",
    "# # Attempt 2\n",
    "# # example uses np\n",
    "# # \"\"\"voids = parsed_data.to_numpy()\n",
    "# # cols = fits.ColDefs(voids)\"\"\"\"\"\"\n"
   ]
  },
  {
   "cell_type": "code",
   "execution_count": 13,
   "id": "246b9fc8",
   "metadata": {},
   "outputs": [],
   "source": [
    "# void_table = QTable.read(\"voids.fits\")\n",
    "\n",
    "# import ligo.skymap.plot\n",
    "# from matplotlib import pyplot as plt\n",
    "# from astropy.coordinates import SkyCoord\n",
    "\n",
    "\n",
    "# void_coords = SkyCoord(void_table['RAdeg'], void_table['DEdeg'])\n",
    "# void_coords\n",
    "\n",
    "# ax = plt.axes(projection='geo aitoff')\n",
    "# ax.grid()\n",
    "# # ax.plot(void_coords.ra.deg, void_coords.dec.deg)\n",
    "# ax.scatter(void_coords.ra.deg, void_coords.dec.deg, transform=ax.get_transform('world'),\n",
    "#           s=1)\n"
   ]
  }
 ],
 "metadata": {
  "kernelspec": {
   "display_name": "Python 3 (ipykernel)",
   "language": "python",
   "name": "python3"
  },
  "language_info": {
   "codemirror_mode": {
    "name": "ipython",
    "version": 3
   },
   "file_extension": ".py",
   "mimetype": "text/x-python",
   "name": "python",
   "nbconvert_exporter": "python",
   "pygments_lexer": "ipython3",
   "version": "3.9.16"
  }
 },
 "nbformat": 4,
 "nbformat_minor": 5
}
