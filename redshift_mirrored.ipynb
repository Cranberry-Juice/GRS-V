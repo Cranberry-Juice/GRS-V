{
 "cells": [
  {
   "cell_type": "code",
   "execution_count": 2,
   "metadata": {},
   "outputs": [],
   "source": [
    "from matplotlib import pyplot as plt\n",
    "import pandas as pd\n",
    "from scipy.interpolate import splrep, BSpline\n",
    "import numpy as np\n",
    "from scipy import stats\n",
    "import random\n",
    "import math\n",
    "from footprint_filter import filter_by_footprint\n",
    "from voidiness import voidy_analysis\n",
    "import pickle\n",
    "import matplotlib.patches as mpatches\n",
    "from custom_functions import z_mask, get_sim_idx"
   ]
  },
  {
   "cell_type": "code",
   "execution_count": 3,
   "metadata": {},
   "outputs": [],
   "source": [
    "sdss_dr16 = pd.read_excel('exported_dataFrames/sdss_dr16_w_voidiness.xlsx')\n",
    "four_lac = pd.read_excel('exported_dataFrames/4lac_w_voidiness.xlsx')\n",
    "# hard_xrays = pd.read_excel('exported_dataFrames/SBAT104_w_voidiness.xlsx')\n",
    "# soft_xrays = pd.read_excel('exported_dataFrames/ROMABZCAT_w_voidiness.xlsx')\n"
   ]
  },
  {
   "cell_type": "code",
   "execution_count": 44,
   "metadata": {},
   "outputs": [],
   "source": [
    "\n",
    "sdss_dr16 = sdss_dr16.drop_duplicates(subset=['RAdeg', 'DEdeg'], keep='first')"
   ]
  },
  {
   "cell_type": "code",
   "execution_count": 161,
   "metadata": {},
   "outputs": [],
   "source": [
    "is_qsr = sdss_dr16.AUTOCLASS_PQN == \"QSO\"\n",
    "qsrs = sdss_dr16[is_qsr].copy()\n",
    "\n",
    "# DROP ALL GALAXIES WITH z < 0.1\n",
    "qsrs = qsrs[qsrs.z >= 0.1].copy()\n",
    "four_lac = four_lac[four_lac.z > 0.1].copy()\n"
   ]
  },
  {
   "cell_type": "code",
   "execution_count": 162,
   "metadata": {},
   "outputs": [
    {
     "data": {
      "text/plain": [
       "19751"
      ]
     },
     "execution_count": 162,
     "metadata": {},
     "output_type": "execute_result"
    }
   ],
   "source": [
    "len(qsrs)"
   ]
  },
  {
   "cell_type": "code",
   "execution_count": null,
   "metadata": {},
   "outputs": [],
   "source": [
    "\n"
   ]
  },
  {
   "cell_type": "code",
   "execution_count": 163,
   "metadata": {},
   "outputs": [],
   "source": [
    "# # The mirror\n",
    "\n",
    "\n",
    "# idx_buckets = [ [] for _ in range(6)]\n",
    "# NFs = plt.hist([qsrs.z, four_lac.z]\n",
    "#          ,histtype=\"step\"\n",
    "#          ,density=True\n",
    "#          ,bins=binning)[0]\n",
    "# tol = 0.1\n",
    "# curve_unequal = [(NFs[0][i]  - NFs[1][i]) > tol for i in range(6)]\n",
    "# while any(curve_unequal):\n",
    "#     for i in range(6):\n",
    "#         if curve_unequal[i]: # Too many galaxies in this bin!\n",
    "#             # matplotlib's convention on bins: [left, right)\n",
    "#             # except for last bin [left, right]\n",
    "#             if i == 5:\n",
    "#                 too_high = qsrs.z > binning[i+1] \n",
    "#             else:\n",
    "#                 too_high = qsrs.z >= binning[i+1]\n",
    "#             too_low = qsrs.z < binning[i]\n",
    "#             bin_mask = ~too_high & ~too_high\n",
    "#             temp = qsrs[bin_mask].copy()\n",
    "#             candidate_idx = temp.index.to_list()\n",
    "#             popped_idx = random.choice(candidate_idx)\n",
    "#             idx_buckets[i].append(popped_idx)\n",
    "#             qsrs.drop(popped_idx, axis='index', inplace=True)\n",
    "#     plt.clf()\n",
    "#     NFs = plt.hist([qsrs.z, four_lac.z]\n",
    "#          ,histtype=\"step\"\n",
    "#          ,density=True\n",
    "#          ,bins=binning)[0]\n",
    "#     curve_unequal = [(NFs[0][i]  - NFs[1][i]) > tol for i in range(6)]\n"
   ]
  },
  {
   "cell_type": "code",
   "execution_count": 191,
   "metadata": {},
   "outputs": [
    {
     "data": {
      "image/png": "[encoded data removed]",
      "text/plain": [
       "<Figure size 640x480 with 1 Axes>"
      ]
     },
     "metadata": {},
     "output_type": "display_data"
    }
   ],
   "source": [
    "binning = np.linspace(0.1, 0.4, 7)\n",
    "test = plt.hist([qsrs.z, four_lac.z]\n",
    "        ,histtype=\"step\"\n",
    "        ,density=False\n",
    "        ,bins=binning)[0]"
   ]
  },
  {
   "cell_type": "code",
   "execution_count": null,
   "metadata": {},
   "outputs": [],
   "source": [
    "\n"
   ]
  },
  {
   "cell_type": "code",
   "execution_count": 192,
   "metadata": {},
   "outputs": [],
   "source": [
    "min_4lac = min(test[1])\n",
    "min_qsr = min(test[0])\n",
    "\n",
    "# rels4lac = np.array([test[1][i]/min_4lac for i in range(len(binning)-1)])\n",
    "rels4lac =  np.array([test[1][i]/test[1][0] for i in range(len(binning)-1)])\n",
    "relsqsr = np.array([test[0][i]/min_qsr for i in range(len(binning)-1)])\n"
   ]
  },
  {
   "cell_type": "code",
   "execution_count": 193,
   "metadata": {},
   "outputs": [
    {
     "data": {
      "text/plain": [
       "array([ 115.,  236.,  434.,  612.,  818., 1126.])"
      ]
     },
     "execution_count": 193,
     "metadata": {},
     "output_type": "execute_result"
    }
   ],
   "source": [
    "test[0]"
   ]
  },
  {
   "cell_type": "code",
   "execution_count": 194,
   "metadata": {},
   "outputs": [
    {
     "data": {
      "text/plain": [
       "array([25., 22., 37., 30., 21., 25.])"
      ]
     },
     "execution_count": 194,
     "metadata": {},
     "output_type": "execute_result"
    }
   ],
   "source": [
    "test[1]"
   ]
  },
  {
   "cell_type": "code",
   "execution_count": 195,
   "metadata": {},
   "outputs": [
    {
     "data": {
      "text/plain": [
       "array([1.  , 0.88, 1.48, 1.2 , 0.84, 1.  ])"
      ]
     },
     "execution_count": 195,
     "metadata": {},
     "output_type": "execute_result"
    }
   ],
   "source": [
    "rels4lac\n"
   ]
  },
  {
   "cell_type": "code",
   "execution_count": 196,
   "metadata": {},
   "outputs": [
    {
     "data": {
      "text/plain": [
       "array([1.        , 2.05217391, 3.77391304, 5.32173913, 7.11304348,\n",
       "       9.79130435])"
      ]
     },
     "execution_count": 196,
     "metadata": {},
     "output_type": "execute_result"
    }
   ],
   "source": [
    "relsqsr\n"
   ]
  },
  {
   "cell_type": "code",
   "execution_count": 197,
   "metadata": {},
   "outputs": [
    {
     "data": {
      "text/plain": [
       "array([115. , 101.2, 170.2, 138. ,  96.6, 115. ])"
      ]
     },
     "execution_count": 197,
     "metadata": {},
     "output_type": "execute_result"
    }
   ],
   "source": [
    "forced_rels = (min_qsr)*rels4lac\n",
    "forced_rels\n"
   ]
  },
  {
   "cell_type": "code",
   "execution_count": 198,
   "metadata": {},
   "outputs": [],
   "source": [
    "\n",
    "og_counts = test[0]\n"
   ]
  },
  {
   "cell_type": "code",
   "execution_count": 199,
   "metadata": {},
   "outputs": [
    {
     "data": {
      "text/plain": [
       "array([ 115.,  236.,  434.,  612.,  818., 1126.])"
      ]
     },
     "execution_count": 199,
     "metadata": {},
     "output_type": "execute_result"
    }
   ],
   "source": [
    "og_counts"
   ]
  },
  {
   "cell_type": "code",
   "execution_count": 200,
   "metadata": {},
   "outputs": [],
   "source": [
    "sub = 0\n",
    "while any(forced_rels > og_counts):\n",
    "    sub+=1\n",
    "    forced_rels = (min_qsr - sub)*rels4lac\n",
    "    "
   ]
  },
  {
   "cell_type": "code",
   "execution_count": 201,
   "metadata": {},
   "outputs": [],
   "source": [
    "set_rels = np.floor(forced_rels)"
   ]
  },
  {
   "cell_type": "code",
   "execution_count": 202,
   "metadata": {},
   "outputs": [
    {
     "data": {
      "text/plain": [
       "array([115., 101., 170., 138.,  96., 115.])"
      ]
     },
     "execution_count": 202,
     "metadata": {},
     "output_type": "execute_result"
    }
   ],
   "source": [
    "set_rels\n",
    "# [112.,  99., 166., 135.,  94., 112., 202., 112.,  54., 108.,  90., 76.]\n",
    "# [114.  , 100.32, 168.72, 136.8 ,  95.76, 114.  , 205.2 , 114.  , 54.72, 109.44,  91.2 ,  77.52]\n",
    "\n",
    "\n",
    "# Z-MNIROR COUNTS [114.,  100.,  168.,  136.,   95.,  114.,  205.,  114.,   54.,  109.,   91.,   77.]\n",
    "\n",
    "\n",
    "# QSO COUNTS (pre-mirror)        [114.,  237.,  434.,  603.,  818., 1120., 1509., 1923., 2265., 3006., 3744., 3978.]\n",
    "# 4LAC COUNTS                    [25.,    22.,   37.,   30.,   21.,   25.,   45.,   25.,   12.,   24.,   20.,   17.]\n",
    "# Z-MIRROR COUNTS (in plots)     [112.,   99.,  166.,  135.,   94.,  112.,  202.,  112.,   54.,  108.,   90.,   76.]\n",
    "# Z-MIRROR COUNTS (method above) [114.,  100.,  168.,  136.,   95.,  114.,  205.,  114.,   54.,  109.,   91.,   77.]"
   ]
  },
  {
   "cell_type": "code",
   "execution_count": 203,
   "metadata": {},
   "outputs": [
    {
     "data": {
      "text/plain": [
       "735.0"
      ]
     },
     "execution_count": 203,
     "metadata": {},
     "output_type": "execute_result"
    }
   ],
   "source": [
    "sum(set_rels)"
   ]
  },
  {
   "cell_type": "code",
   "execution_count": 204,
   "metadata": {},
   "outputs": [],
   "source": [
    "count_to_delete = og_counts - set_rels\n"
   ]
  },
  {
   "cell_type": "code",
   "execution_count": 205,
   "metadata": {},
   "outputs": [
    {
     "data": {
      "text/plain": [
       "array([   0.,  135.,  264.,  474.,  722., 1011.])"
      ]
     },
     "execution_count": 205,
     "metadata": {},
     "output_type": "execute_result"
    }
   ],
   "source": [
    "count_to_delete"
   ]
  },
  {
   "cell_type": "code",
   "execution_count": 190,
   "metadata": {},
   "outputs": [],
   "source": [
    "def z_mirror(qsrs, binning, counts_to_delete):\n",
    "    idx_buckets = []\n",
    "    # count_to_delete = [2.000e+00, 1.380e+02, 2.680e+02, 4.680e+02, 7.240e+02, 1.008e+03,\n",
    "    #    1.307e+03, 1.811e+03, 2.211e+03, 2.898e+03, 3.654e+03, 3.902e+03]\n",
    "    # count_to_delete = [   0.,  137.,  266.,  467.,  723., 1006., 1304., 1809., 2211.,\n",
    "    #    2897., 3653., 3901.]\n",
    "    # count_to_delete = [1.000e+00, 5.390e+02, 1.596e+03, 2.910e+03, 5.003e+03, 7.447e+03]\n",
    "    # count_to_delete = [   0., 1085., 1863., 2202., 3074., 3408.]\n",
    "    # binning = np.linspace(0.4, 0.7, 7)\n",
    "    for i in range(len(binning)-1):\n",
    "        if i == len(binning)-2:\n",
    "            too_high = qsrs.z > binning[i+1]    \n",
    "        else:\n",
    "            too_high = qsrs.z >= binning[i+1]\n",
    "        too_low = qsrs.z < binning[i]\n",
    "        bin_mask = ~too_high & ~too_low\n",
    "        temp = qsrs[bin_mask]\n",
    "        candidate_idx = temp.index.to_list()\n",
    "        popped_idx = random.sample(candidate_idx, int(count_to_delete[i]))\n",
    "        idx_buckets.append(popped_idx)\n",
    "        qsrs.drop(popped_idx, axis='index', inplace=True)\n",
    "    return (qsrs, idx_buckets)"
   ]
  },
  {
   "cell_type": "code",
   "execution_count": 185,
   "metadata": {},
   "outputs": [
    {
     "data": {
      "text/plain": [
       "array([0.4 , 0.45, 0.5 , 0.55, 0.6 , 0.65, 0.7 ])"
      ]
     },
     "execution_count": 185,
     "metadata": {},
     "output_type": "execute_result"
    }
   ],
   "source": [
    "binning"
   ]
  },
  {
   "cell_type": "code",
   "execution_count": 186,
   "metadata": {},
   "outputs": [
    {
     "data": {
      "text/plain": [
       "19751"
      ]
     },
     "execution_count": 186,
     "metadata": {},
     "output_type": "execute_result"
    }
   ],
   "source": [
    "len(qsrs)"
   ]
  },
  {
   "cell_type": "code",
   "execution_count": 187,
   "metadata": {},
   "outputs": [],
   "source": [
    "qsrs, _ = z_mirror(qsrs)"
   ]
  },
  {
   "cell_type": "code",
   "execution_count": 188,
   "metadata": {},
   "outputs": [
    {
     "data": {
      "text/plain": [
       "8119"
      ]
     },
     "execution_count": 188,
     "metadata": {},
     "output_type": "execute_result"
    }
   ],
   "source": [
    "len(qsrs)"
   ]
  },
  {
   "cell_type": "code",
   "execution_count": 189,
   "metadata": {},
   "outputs": [
    {
     "data": {
      "image/png": "[encoded data removed]",
      "text/plain": [
       "<Figure size 640x480 with 1 Axes>"
      ]
     },
     "metadata": {},
     "output_type": "display_data"
    }
   ],
   "source": [
    "plt.hist([qsrs.z, four_lac.z], bins=binning, histtype=\"step\", density=True )\n",
    "plt.legend([f'z-Mirrored Observed QSO n = {len(qsrs):,}', F'Observed 4LAC N = {len(four_lac):,} '])\n",
    "plt.xlabel('z')\n",
    "plt.ylabel('Normalized Fraction')\n",
    "plt.grid()"
   ]
  },
  {
   "cell_type": "code",
   "execution_count": null,
   "metadata": {},
   "outputs": [],
   "source": []
  },
  {
   "cell_type": "code",
   "execution_count": 73,
   "metadata": {},
   "outputs": [],
   "source": [
    "# zbin = [0.1, 0.4]\n",
    "# p_vals =  [None]*1000\n",
    "# for i in range(1000):\n",
    "#     qsrs = sdss_dr16[is_qsr].copy()\n",
    "#     # DROP ALL GALAXIES WITH z < 0.1\n",
    "#     qsrs = qsrs[qsrs.z >= 0.1].copy()\n",
    "#     qsrs, _ = z_mirror(qsrs)\n",
    "#     p_vals[i] = stats.ks_2samp(qsrs[z_mask(qsrs, zbin)].Voidiness, four_lac[z_mask(four_lac, zbin)].Voidiness)[1]"
   ]
  },
  {
   "cell_type": "code",
   "execution_count": 75,
   "metadata": {},
   "outputs": [
    {
     "data": {
      "text/plain": [
       "(array([0.39543002, 1.12251102, 2.10470816, 3.13792854, 2.00266171,\n",
       "        1.55620846, 1.454162  , 0.65054616, 0.19133711, 0.14031388]),\n",
       " array([0.06889096, 0.14728662, 0.22568229, 0.30407796, 0.38247362,\n",
       "        0.46086929, 0.53926496, 0.61766062, 0.69605629, 0.77445196,\n",
       "        0.85284762]),\n",
       " [<matplotlib.patches.Polygon at 0x316f34670>])"
      ]
     },
     "execution_count": 75,
     "metadata": {},
     "output_type": "execute_result"
    },
    {
     "data": {
      "image/png": "[encoded data removed]",
      "text/plain": [
       "<Figure size 640x480 with 1 Axes>"
      ]
     },
     "metadata": {},
     "output_type": "display_data"
    }
   ],
   "source": [
    "# plt.hist(p_vals, density=True, histtype=\"step\")"
   ]
  },
  {
   "cell_type": "code",
   "execution_count": 97,
   "metadata": {},
   "outputs": [
    {
     "data": {
      "text/plain": [
       "Text(0.5, 1.0, 'z: [0.4, 0.7)')"
      ]
     },
     "execution_count": 97,
     "metadata": {},
     "output_type": "execute_result"
    },
    {
     "data": {
      "image/png": "[encoded data removed]",
      "text/plain": [
       "<Figure size 640x480 with 1 Axes>"
      ]
     },
     "metadata": {},
     "output_type": "display_data"
    }
   ],
   "source": [
    "# zbin = [0.4, 0.7]\n",
    "# p_vals =  [None]*1000\n",
    "# for i in range(1000):\n",
    "#     qsrs = sdss_dr16[is_qsr].copy()\n",
    "#     # DROP ALL GALAXIES WITH z < 0.1\n",
    "#     qsrs = qsrs[qsrs.z >= 0.1].copy()\n",
    "#     qsrs, _ = z_mirror(qsrs)\n",
    "#     plt.hist(qsrs.Voidiness, bins=1000, cumulative=True, histtype=\"step\", alpha=0.1, density=True, color='0.5')\n",
    "#     p_vals[i] = stats.ks_2samp(qsrs[z_mask(qsrs, zbin)].Voidiness, four_lac[z_mask(four_lac, zbin)].Voidiness)[1]\n",
    "# # plt.hist(p_vals, density=True, histtype=\"step\")\n",
    "# plt.hist(four_lac.Voidiness, cumulative=True, histtype=\"step\", color='magenta', bins=1000, density=True)\n",
    "# plt.xlabel(xlabel='Voidiness')\n",
    "# plt.ylabel(\"Emperical Cumaltive Distribution Function\")\n",
    "# plt.title(\"z: [0.4, 0.7)\")"
   ]
  },
  {
   "cell_type": "code",
   "execution_count": 100,
   "metadata": {},
   "outputs": [
    {
     "data": {
      "image/png": "[encoded data removed]",
      "text/plain": [
       "<Figure size 640x480 with 1 Axes>"
      ]
     },
     "metadata": {},
     "output_type": "display_data"
    }
   ],
   "source": [
    "# plt.hist(p_vals, density=True, histtype=\"step\",bins = 400)\n",
    "# # plt.xlim((0, 0.0002))\n",
    "# plt.ticklabel_format(style='sci', axis='x')\n",
    "# plt.yscale('log')"
   ]
  },
  {
   "cell_type": "code",
   "execution_count": 95,
   "metadata": {},
   "outputs": [
    {
     "data": {
      "text/plain": [
       "0.00019719016292269164"
      ]
     },
     "execution_count": 95,
     "metadata": {},
     "output_type": "execute_result"
    }
   ],
   "source": [
    "np.std(p_vals)"
   ]
  },
  {
   "cell_type": "code",
   "execution_count": 36,
   "metadata": {},
   "outputs": [
    {
     "data": {
      "image/png": "[encoded data removed]",
      "text/plain": [
       "<Figure size 640x480 with 1 Axes>"
      ]
     },
     "metadata": {},
     "output_type": "display_data"
    }
   ],
   "source": [
    "NFs = plt.hist([qsrs.z, four_lac.z]\n",
    "        ,histtype=\"step\"\n",
    "        ,density=True\n",
    "        ,bins=binning)[0]\n",
    "curve_unequal = [NFs[0][i]  > NFs[1][i] for i in range(6)]"
   ]
  },
  {
   "cell_type": "code",
   "execution_count": null,
   "metadata": {},
   "outputs": [
    {
     "data": {
      "text/plain": [
       "[True, False, False, True, True, False]"
      ]
     },
     "execution_count": 22,
     "metadata": {},
     "output_type": "execute_result"
    }
   ],
   "source": [
    "curve_unequal"
   ]
  },
  {
   "cell_type": "code",
   "execution_count": 101,
   "metadata": {},
   "outputs": [
    {
     "data": {
      "text/plain": [
       "Text(0, 0.5, 'Normalized Fraction')"
      ]
     },
     "execution_count": 101,
     "metadata": {},
     "output_type": "execute_result"
    },
    {
     "data": {
      "image/png": "[encoded data removed]",
      "text/plain": [
       "<Figure size 640x480 with 1 Axes>"
      ]
     },
     "metadata": {},
     "output_type": "display_data"
    }
   ],
   "source": [
    "density_flag = True\n",
    "test = plt.hist([qsrs.z, four_lac.z]\n",
    "         ,histtype=\"step\"\n",
    "         ,density=density_flag\n",
    "         ,bins=binning)\n",
    "# plt.hist(four_lac.z\n",
    "#          ,histtype=\"step\"\n",
    "#          ,density=density_flag)\n",
    "plt.grid()\n",
    "plt.xlabel('z')\n",
    "plt.title('Redshift distribution')\n",
    "plt.ylabel('Normalized Fraction')"
   ]
  },
  {
   "cell_type": "code",
   "execution_count": null,
   "metadata": {},
   "outputs": [],
   "source": []
  },
  {
   "cell_type": "code",
   "execution_count": null,
   "metadata": {},
   "outputs": [],
   "source": []
  }
 ],
 "metadata": {
  "kernelspec": {
   "display_name": "astropy-env",
   "language": "python",
   "name": "python3"
  },
  "language_info": {
   "codemirror_mode": {
    "name": "ipython",
    "version": 3
   },
   "file_extension": ".py",
   "mimetype": "text/x-python",
   "name": "python",
   "nbconvert_exporter": "python",
   "pygments_lexer": "ipython3",
   "version": "3.9.19"
  }
 },
 "nbformat": 4,
 "nbformat_minor": 2
}
