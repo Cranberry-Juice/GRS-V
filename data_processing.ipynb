{
 "cells": [
  {
   "cell_type": "markdown",
   "metadata": {},
   "source": [
    "Minor script to prepare catalogs for the voidiness analysis"
   ]
  },
  {
   "cell_type": "code",
   "execution_count": 1,
   "metadata": {},
   "outputs": [],
   "source": [
    "import pandas as pd\n",
    "from astropy.cosmology import WMAP9 as cosmo # Used to calculate comoving dist\n",
    "from footprint_filter import filter_by_footprint\n",
    "from astropy.table import Table\n",
    "\n",
    "from io import StringIO\n"
   ]
  },
  {
   "cell_type": "code",
   "execution_count": 2,
   "metadata": {},
   "outputs": [],
   "source": [
    "voids = pd.read_excel('exported_dataFrames/voids.xlsx')"
   ]
  },
  {
   "cell_type": "code",
   "execution_count": 3,
   "metadata": {},
   "outputs": [],
   "source": [
    "def filter_by_redshift(voids_df, data_df):\n",
    "    too_close = data_df.z < min(voids_df.z)\n",
    "    data_df = data_df[~too_close]\n",
    "\n",
    "    too_far = data_df.z > max(voids_df.z)\n",
    "    return data_df[~too_far]\n",
    "\n",
    "def add_cmvd(data_df):\n",
    "    \"\"\"Adds the comoving distance to data_df\"\"\"\n",
    "    cmvd = cosmo.comoving_distance(data_df['z']) # Comoving distance to void center\n",
    "    data_df['cmvd_Mpc'] = cmvd.value # add it to data table    \n",
    "    return data_df\n",
    "\n",
    "def filter_by_z_ra_dec(data_df, voids, cmvd_add = True, footprint_points_fn = \"exported_dataFrames/footprint_points.xlsx\"):\n",
    "    \n",
    "    if type(data_df) == str:\n",
    "        data_df = pd.read_excel(data_df)\n",
    "    else:\n",
    "        assert isinstance(data_df, pd.DataFrame)\n",
    "        \n",
    "    data_df = filter_by_redshift(voids,data_df)\n",
    "\n",
    "    if cmvd_add:\n",
    "        data_df = add_cmvd(data_df)\n",
    "    data_df = filter_by_footprint(data_df, footprint_points_fn)\n",
    "    return data_df"
   ]
  },
  {
   "cell_type": "code",
   "execution_count": 4,
   "metadata": {},
   "outputs": [
    {
     "data": {
      "text/plain": [
       "True"
      ]
     },
     "execution_count": 4,
     "metadata": {},
     "output_type": "execute_result"
    }
   ],
   "source": [
    "type('hello') == str"
   ]
  },
  {
   "cell_type": "code",
   "execution_count": 5,
   "metadata": {},
   "outputs": [],
   "source": [
    "## 4LAC catalog\n",
    "four_lac_GRS = filter_by_z_ra_dec('More GRS/FINALCorrectedRedshifts.xlsx', voids)\n",
    "\n",
    "# Save to excel file\n",
    "four_lac_GRS.to_excel('exported_dataFrames/z_ra_dec_filtered_4lac.xlsx', index=False)"
   ]
  },
  {
   "cell_type": "code",
   "execution_count": 6,
   "metadata": {},
   "outputs": [],
   "source": [
    "## xray catalog\n",
    "xray_agns = filter_by_z_ra_dec('exported_dataFrames/xray_agns.xlsx', voids)\n",
    "xray_agns.to_excel('exported_dataFrames/z_ra_dec_filtered_xray_agns.xlsx', index = False)"
   ]
  },
  {
   "cell_type": "code",
   "execution_count": 7,
   "metadata": {},
   "outputs": [],
   "source": [
    "## Massive SDSS DR16 Catalog\n",
    "\n",
    "dat = Table.read('SDSS Data Used/DR16Q_Superset_v3.fits', format='fits')\n",
    "# We lose data on this steps since some colums have multiple data points per row\n",
    "multidim_cols = [name for name in dat.colnames if len(dat[name].shape) >1]# For bookkeeping purposes\n",
    "\n",
    "# Grab the non multidimensional columsn\n",
    "singledim_cols = [name for name in dat.colnames if len(dat[name].shape) <=1] \n",
    "sdss_dr16 = dat[singledim_cols].to_pandas()"
   ]
  },
  {
   "cell_type": "code",
   "execution_count": 8,
   "metadata": {},
   "outputs": [],
   "source": [
    "# NOTE: Check coordinate system used. Ensure all data tables are using the same systme\n",
    "# Note. Some redshifts are negative. Why? They are specific negative values. \n",
    "sdss_dr16 = sdss_dr16.rename(columns={\"RA\": 'RAdeg', \"DEC\": \"DEdeg\", \"Z\":'z'})\n",
    "\n",
    "\n",
    "# Convert bytes to string\n",
    "sdss_dr16['AUTOCLASS_PQN'] = sdss_dr16['AUTOCLASS_PQN'].apply(lambda x: x.decode('utf-8'))\n",
    "\n",
    "# Filter by object type. We only want to keep  QSO's and Galaxies\n",
    "is_quasar = sdss_dr16.AUTOCLASS_PQN == \"QSO\"\n",
    "is_galaxy = sdss_dr16.AUTOCLASS_PQN == \"GALAXY\"\n",
    "\n",
    "# Filter by galaxy or quasar\n",
    "sdss_dr16 = sdss_dr16[is_galaxy | is_quasar]"
   ]
  },
  {
   "cell_type": "code",
   "execution_count": 9,
   "metadata": {},
   "outputs": [],
   "source": [
    "# Now the big fanxy filter\n",
    "\n",
    "sdss_dr16 = filter_by_z_ra_dec(sdss_dr16, voids)"
   ]
  },
  {
   "cell_type": "code",
   "execution_count": 10,
   "metadata": {},
   "outputs": [],
   "source": [
    "sdss_dr16.to_excel('exported_dataFrames/z_ra_dec_filtered_SDSS_DR16.xlsx')"
   ]
  },
  {
   "cell_type": "code",
   "execution_count": null,
   "metadata": {},
   "outputs": [],
   "source": []
  }
 ],
 "metadata": {
  "kernelspec": {
   "display_name": "astropy-env",
   "language": "python",
   "name": "python3"
  },
  "language_info": {
   "codemirror_mode": {
    "name": "ipython",
    "version": 3
   },
   "file_extension": ".py",
   "mimetype": "text/x-python",
   "name": "python",
   "nbconvert_exporter": "python",
   "pygments_lexer": "ipython3",
   "version": "3.9.19"
  }
 },
 "nbformat": 4,
 "nbformat_minor": 2
}
