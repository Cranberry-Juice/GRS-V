{
 "cells": [
  {
   "cell_type": "markdown",
   "metadata": {},
   "source": [
    "Minor script to prepare catalogs for the voidiness analysis"
   ]
  },
  {
   "cell_type": "code",
   "execution_count": 1,
   "metadata": {},
   "outputs": [],
   "source": [
    "import pandas as pd\n",
    "from astropy.cosmology import WMAP9 as cosmo # Used to calculate comoving dist\n",
    "from footprint_filter import filter_by_footprint"
   ]
  },
  {
   "cell_type": "code",
   "execution_count": 2,
   "metadata": {},
   "outputs": [],
   "source": [
    "voids = pd.read_excel('exported_dataFrames/voids.xlsx')"
   ]
  },
  {
   "cell_type": "code",
   "execution_count": 6,
   "metadata": {},
   "outputs": [],
   "source": [
    "def filter_by_redshift(voids_df, data_df):\n",
    "    too_close = data_df.z < min(voids_df.z)\n",
    "    data_df = data_df[~too_close]\n",
    "\n",
    "    too_far = data_df.z > max(voids_df.z)\n",
    "    return data_df[~too_far]\n",
    "\n",
    "def add_cmvd(data_df):\n",
    "    \"\"\"Adds the comoving distance to data_df\"\"\"\n",
    "    cmvd = cosmo.comoving_distance(data_df['z']) # Comoving distance to void center\n",
    "    data_df['cmvd_Mpc'] = cmvd.value # add it to data table    \n",
    "    return data_df\n",
    "\n",
    "def filter_by_z_ra_dec(data_df_fn, voids, cmvd_add = True, footprint_points_fn = \"exported_dataFrames/footprint_points.xlsx\"):\n",
    "    data_df = pd.read_excel(data_df_fn)\n",
    "    data_df = filter_by_redshift(voids,data_df)\n",
    "    if cmvd_add:\n",
    "        data_df = add_cmvd(data_df)\n",
    "    data_df = filter_by_footprint(data_df, footprint_points_fn)\n",
    "    return data_df"
   ]
  },
  {
   "cell_type": "code",
   "execution_count": 10,
   "metadata": {},
   "outputs": [],
   "source": [
    "## 4LAC catalog\n",
    "four_lac_GRS = filter_by_z_ra_dec('More GRS/FINALCorrectedRedshifts.xlsx', voids)\n",
    "\n",
    "# Save to excel file\n",
    "four_lac_GRS.to_excel('exported_dataFrames/z_ra_dec_filtered_4lac.xlsx', index=False)"
   ]
  },
  {
   "cell_type": "code",
   "execution_count": 11,
   "metadata": {},
   "outputs": [],
   "source": [
    "## xray catalog\n",
    "xray_agns = filter_by_z_ra_dec('exported_dataFrames/xray_agns.xlsx', voids)\n",
    "xray_agns.to_excel('exported_dataFrames/z_ra_dec_filtered_xray_agns.xlsx', index = False)"
   ]
  },
  {
   "cell_type": "code",
   "execution_count": null,
   "metadata": {},
   "outputs": [],
   "source": []
  }
 ],
 "metadata": {
  "kernelspec": {
   "display_name": "astropy-env",
   "language": "python",
   "name": "python3"
  },
  "language_info": {
   "codemirror_mode": {
    "name": "ipython",
    "version": 3
   },
   "file_extension": ".py",
   "mimetype": "text/x-python",
   "name": "python",
   "nbconvert_exporter": "python",
   "pygments_lexer": "ipython3",
   "version": "3.9.19"
  }
 },
 "nbformat": 4,
 "nbformat_minor": 2
}
