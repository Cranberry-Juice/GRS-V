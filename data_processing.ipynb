{
 "cells": [
  {
   "cell_type": "markdown",
   "metadata": {},
   "source": [
    "Minor script to prepare catalogs for the voidiness analysis"
   ]
  },
  {
   "cell_type": "code",
   "execution_count": 19,
   "metadata": {},
   "outputs": [],
   "source": [
    "import pandas as pd\n",
    "from astropy.cosmology import WMAP9 as cosmo # Used to calculate comoving dist\n",
    "from footprint_filter import filter_by_footprint\n",
    "from astropy.table import Table\n",
    "import numpy as np\n"
   ]
  },
  {
   "cell_type": "code",
   "execution_count": 20,
   "metadata": {},
   "outputs": [],
   "source": [
    "voids = pd.read_excel('exported_dataFrames/voids.xlsx')"
   ]
  },
  {
   "cell_type": "code",
   "execution_count": 21,
   "metadata": {},
   "outputs": [],
   "source": [
    "def filter_by_redshift(voids_df, data_df):\n",
    "    too_close = data_df.z < min(voids_df.z)\n",
    "    data_df = data_df[~too_close]\n",
    "\n",
    "    too_far = data_df.z > max(voids_df.z)\n",
    "    return data_df[~too_far]\n",
    "\n",
    "def add_cmvd(data_df):\n",
    "    \"\"\"Adds the comoving distance to data_df\"\"\"\n",
    "    cmvd = cosmo.comoving_distance(data_df['z']) # Comoving distance to void center\n",
    "    data_df['cmvd_Mpc'] = cmvd.value # add it to data table    \n",
    "    return data_df\n",
    "\n",
    "def filter_by_z_ra_dec(data_df, voids, cmvd_add = True, footprint_points_fn = \"exported_dataFrames/footprint_points.xlsx\"):\n",
    "    \n",
    "    if type(data_df) == str:\n",
    "        data_df = pd.read_excel(data_df)\n",
    "    else:\n",
    "        assert isinstance(data_df, pd.DataFrame)\n",
    "        \n",
    "    data_df = filter_by_redshift(voids,data_df)\n",
    "\n",
    "    if cmvd_add:\n",
    "        data_df = add_cmvd(data_df)\n",
    "    data_df = filter_by_footprint(data_df, footprint_points_fn)\n",
    "    return data_df"
   ]
  },
  {
   "cell_type": "code",
   "execution_count": 25,
   "metadata": {},
   "outputs": [],
   "source": [
    "## 4LAC catalog\n",
    "four_lac_GRS = filter_by_z_ra_dec('More GRS/FINALCorrectedRedshifts.xlsx', voids)\n",
    "\n",
    "# Save to excel file\n",
    "four_lac_GRS.to_excel('exported_dataFrames/z_ra_dec_filtered_4lac.xlsx', index=False)"
   ]
  },
  {
   "cell_type": "code",
   "execution_count": 26,
   "metadata": {},
   "outputs": [],
   "source": [
    "## xray catalog\n",
    "# updating to Swift BAT 105 Month Catalog\n",
    "# source: https://swift.gsfc.nasa.gov/results/bs105mon/\n",
    "# Only the RAdeg, DEdec and z columns were properly cleaned for whitespace since \n",
    "# its all we need\n",
    "xray_agns = pd.read_excel('agn data/SBAT105mo.xlsx')\n",
    "\n",
    "# Converting white space to 0\n",
    "for i, _ in xray_agns.iterrows():\n",
    "    if type(xray_agns.z[i]) == str:\n",
    "        xray_agns.at[i, 'z'] = 0\n",
    "# Typecast to single type\n",
    "xray_agns.astype({'z':'float64'}).dtypes\n",
    "# Save it\n",
    "xray_agns.to_excel('exported_dataFrames/xray_agns.xlsx', index=False)\n",
    "\n",
    "#Filter and Save\n",
    "xray_agns = filter_by_z_ra_dec('exported_dataFrames/xray_agns.xlsx', voids)\n",
    "\n",
    "xray_agns.to_excel('exported_dataFrames/z_ra_dec_filtered_xray_agns.xlsx', index = False)"
   ]
  },
  {
   "cell_type": "code",
   "execution_count": 27,
   "metadata": {},
   "outputs": [],
   "source": [
    "## Massive SDSS DR16 Catalog\n",
    "\n",
    "dat = Table.read('SDSS Data Used/DR16Q_Superset_v3.fits', format='fits')\n",
    "# We lose data on this steps since some colums have multiple data points per row\n",
    "multidim_cols = [name for name in dat.colnames if len(dat[name].shape) >1]# For bookkeeping purposes\n",
    "\n",
    "# Grab the non multidimensional columsn\n",
    "singledim_cols = [name for name in dat.colnames if len(dat[name].shape) <=1] \n",
    "sdss_dr16 = dat[singledim_cols].to_pandas()"
   ]
  },
  {
   "cell_type": "code",
   "execution_count": 28,
   "metadata": {},
   "outputs": [],
   "source": [
    "# NOTE: Check coordinate system used. Ensure all data tables are using the same systme\n",
    "# Note. Some redshifts are negative. Why? They are specific negative values. \n",
    "sdss_dr16 = sdss_dr16.rename(columns={\"RA\": 'RAdeg', \"DEC\": \"DEdeg\", \"Z\":'z'})\n",
    "\n",
    "\n",
    "# Convert bytes to string\n",
    "sdss_dr16['AUTOCLASS_PQN'] = sdss_dr16['AUTOCLASS_PQN'].apply(lambda x: x.decode('utf-8'))\n",
    "\n",
    "# Filter by object type. We only want to keep  QSO's and Galaxies\n",
    "is_quasar = sdss_dr16.AUTOCLASS_PQN == \"QSO\"\n",
    "is_galaxy = sdss_dr16.AUTOCLASS_PQN == \"GALAXY\"\n",
    "\n",
    "# Filter by galaxy or quasar\n",
    "sdss_dr16 = sdss_dr16[is_galaxy | is_quasar]"
   ]
  },
  {
   "cell_type": "code",
   "execution_count": 29,
   "metadata": {},
   "outputs": [],
   "source": [
    "# Now the big fanxy filter\n",
    "\n",
    "sdss_dr16 = filter_by_z_ra_dec(sdss_dr16, voids)"
   ]
  },
  {
   "cell_type": "code",
   "execution_count": 30,
   "metadata": {},
   "outputs": [],
   "source": [
    "sdss_dr16.to_excel('exported_dataFrames/z_ra_dec_filtered_SDSS_DR16.xlsx', index=False)"
   ]
  },
  {
   "cell_type": "code",
   "execution_count": 31,
   "metadata": {},
   "outputs": [],
   "source": [
    "# ROMABZCAT catalog\n",
    "# https://heasarc.gsfc.nasa.gov/W3Browse/galaxy-catalog/romabzcat.html#source_number\n",
    "# Soft xrays I believe\n",
    "soft_xrays = pd.read_excel('agn data/ROMABZCAT.xlsx')\n",
    "\n",
    "for i, _ in soft_xrays.iterrows():\n",
    "    if np.isnan(soft_xrays.z[i]):\n",
    "        soft_xrays.at[i, 'z'] = 0\n",
    "\n",
    "# save it\n",
    "filter_by_z_ra_dec(soft_xrays, voids).to_excel('exported_dataFrames/z_ra_dec_filtered_ROMABZCAT.xlsx', index=False)\n"
   ]
  },
  {
   "cell_type": "code",
   "execution_count": null,
   "metadata": {},
   "outputs": [],
   "source": []
  }
 ],
 "metadata": {
  "kernelspec": {
   "display_name": "astropy-env",
   "language": "python",
   "name": "python3"
  },
  "language_info": {
   "codemirror_mode": {
    "name": "ipython",
    "version": 3
   },
   "file_extension": ".py",
   "mimetype": "text/x-python",
   "name": "python",
   "nbconvert_exporter": "python",
   "pygments_lexer": "ipython3",
   "version": "3.9.19"
  }
 },
 "nbformat": 4,
 "nbformat_minor": 2
}
