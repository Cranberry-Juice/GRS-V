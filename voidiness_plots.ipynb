{
 "cells": [
  {
   "cell_type": "code",
   "execution_count": 7,
   "metadata": {},
   "outputs": [],
   "source": [
    "from voidiness import voidy_analysis\n",
    "from matplotlib import pyplot as plt\n",
    "import pandas as pd"
   ]
  },
  {
   "cell_type": "code",
   "execution_count": 2,
   "metadata": {},
   "outputs": [],
   "source": [
    "# 12m 36.6s seconds to run. WOW\n",
    "# filtered_sdss_dr16 = voidy_analysis('exported_dataFrames/voids.xlsx','exported_dataFrames/z_ra_dec_filtered_SDSS_DR16.xlsx') # commented out since its saved and it takes 13 minutes to run\n",
    "sdss_dr16 = pd.read_excel('exported_dataFrames/sdss_dr16_w_voidiness.xlsx')\n",
    "big_grs = voidy_analysis('exported_dataFrames/voids.xlsx','exported_dataFrames/z_ra_dec_filtered_4lac.xlsx' )\n",
    "xray_agns = voidy_analysis('exported_dataFrames/voids.xlsx', 'exported_dataFrames/z_ra_dec_filtered_xray_agns.xlsx' )"
   ]
  },
  {
   "cell_type": "code",
   "execution_count": 6,
   "metadata": {},
   "outputs": [],
   "source": [
    "# Saving so i don't have to wait 13 minutes for it to calculate\n",
    "# This also takes 1m 35s to save. wow\n",
    "filtered_sdss_dr16.to_excel('exported_dataFrames/sdss_dr16_w_voidiness.xlsx')"
   ]
  },
  {
   "cell_type": "code",
   "execution_count": 3,
   "metadata": {},
   "outputs": [],
   "source": [
    "# Base plotting code, the only thing we tweak is the data we're plotting.\n",
    "# The bins and label\n",
    "# plt.hist([big_grs.Voidiness, xray_agns.Voidiness], \n",
    "#             bins=15, \n",
    "#             histtype=\"step\", \n",
    "#             density=True, \n",
    "#             stacked=False,\n",
    "#             label=['4LAC','X-Ray AGN''s'])\n",
    "# plt.hist([filtered_sdss_dr16.Voidiness], \n",
    "#             bins=50, \n",
    "#             histtype=\"step\", \n",
    "#             density=True, \n",
    "#             stacked=False,\n",
    "#             label=['SDSS DR16'])\n",
    "\n",
    "def custom_plot_hist(data, labels, bins):\n",
    "\n",
    "    for dat, label, bin in zip(data, labels, bins):\n",
    "        plt.hist([dat.Voidiness], \n",
    "            bins=bin, \n",
    "            histtype=\"step\", \n",
    "            density=True, \n",
    "            stacked=False,\n",
    "            label=label)\n",
    "        \n",
    "    plt.xlabel('Voidiness [$D_{\\\\rm Void}/D_{\\\\rm Total}$]')\n",
    "    plt.ylabel('Normalized Fraction')\n",
    "    plt.title('Voidiness Histogram')\n",
    "\n",
    "    plt.grid()\n",
    "\n",
    "    plt.legend()\n",
    "\n",
    "    plt.text(0.5, 0.5, 'Preliminary',  # Adjust the position as needed\n",
    "                fontsize=30, color='gray', alpha=0.5,\n",
    "                ha='center', va='center', transform=plt.gca().transAxes)\n",
    "\n",
    "    plt.tight_layout()\n",
    "    plt.show()\n"
   ]
  },
  {
   "cell_type": "code",
   "execution_count": 5,
   "metadata": {},
   "outputs": [
    {
     "name": "stdout",
     "output_type": "stream",
     "text": [
      "1 4 7\n",
      "2 5 8\n",
      "3 6 9\n"
     ]
    }
   ],
   "source": []
  },
  {
   "cell_type": "code",
   "execution_count": null,
   "metadata": {},
   "outputs": [],
   "source": []
  }
 ],
 "metadata": {
  "kernelspec": {
   "display_name": "astropy-env",
   "language": "python",
   "name": "python3"
  },
  "language_info": {
   "codemirror_mode": {
    "name": "ipython",
    "version": 3
   },
   "file_extension": ".py",
   "mimetype": "text/x-python",
   "name": "python",
   "nbconvert_exporter": "python",
   "pygments_lexer": "ipython3",
   "version": "3.9.19"
  }
 },
 "nbformat": 4,
 "nbformat_minor": 2
}
